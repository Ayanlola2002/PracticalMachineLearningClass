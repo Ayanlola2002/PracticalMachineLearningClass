{
 "cells": [
  {
   "cell_type": "markdown",
   "metadata": {},
   "source": [
    "# Exercise 07\n",
    "\n",
    "## Kaggle competition \n",
    "\n",
    "* Overview of how Kaggle works ([slides](https://github.com/justmarkham/DAT8/raw/master/slides/16_kaggle.pdf))\n",
    "* Kaggle Titanic competition: [Titanic: Machine Learning from Disaster](https://www.kaggle.com/c/titanic)\n",
    "\n",
    "# Exercise 07.1 (20 points)\n",
    "\n",
    "Create a submission using different classification methods, preprocessing extrategies and cross-validation techniques discussed during the class. The output must be detailed in this notebook.\n",
    "\n",
    "# Exercise 07.2 (20 points)\n",
    "\n",
    "The reminder points will be allocated based on the performance of each one submission."
   ]
  },
  {
   "cell_type": "markdown",
   "metadata": {},
   "source": [
    "# Titanic"
   ]
  },
  {
   "cell_type": "markdown",
   "metadata": {},
   "source": [
    "Kaggle Competition es una plataforma para el modelamiento y análisis predictivvo de competencias en la que empresas publican datos y personas de todo el mundo compiten para producir los mejores modelos, existen un sin número de estrategias que se pueden aplicar al modelamiento y es difícil saber en principio  cual es la técnica más eficaz.\n",
    "\n",
    "A través de la plataforma se obtiene la base de datos llamada Titanic en la cual se tiene información de los pasajeros que abordaron el transatlántico y lo que se quiere es predecir que pasajeros sobreviven a la tragedia a demás conocer que personas eran propensas a sobrevivir; de antemano se conoce que algunos grupos de personas tenían más probabilidades de sobrevivir que otros, como ser mujer, ser niño y pertencer a la clase social alta.\n",
    "\n",
    "Las variables que se tienen son las siguientes:"
   ]
  },
  {
   "cell_type": "markdown",
   "metadata": {
    "collapsed": true
   },
   "source": [
    "* Survived - Supervivencia (0 = No, 1 = Sí)\n",
    "\n",
    "* PClass - Clase de los Pasajeros (1 = 1º Clase, 2 = 2º Clase, 3 = 3º Clase)\n",
    "\n",
    "* Name - Nombre\n",
    "\n",
    "* Sex - Sexo\n",
    "\n",
    "* Age - Edad\n",
    "\n",
    "* Sibsp - Número de hermanos / cónyuges a bordo\n",
    "\n",
    "* Parch - Número de padres / Niños a bordo\n",
    "\n",
    "* Ticket - N° de entrada\n",
    "\n",
    "* Fare - Tarifas de los pasajeros\n",
    "\n",
    "* Cabin - Cabina\n",
    "\n",
    "* Embarked - Puerto de embarque (C = Cherburgo; Q = Queenstown; S = Southampton)"
   ]
  },
  {
   "cell_type": "markdown",
   "metadata": {},
   "source": [
    "# 1. Primer Modelamiento "
   ]
  },
  {
   "cell_type": "markdown",
   "metadata": {},
   "source": [
    "Para comenzar a realizar los diferentes modelos primeramente se divide la base train_df en train y test, para poder entrenar el modelo en train y aplicarlo a test y conocer de antemano la exactitud del modelo, continuamente se aplica el modelo a test_df y se suben los resultados a Kaggle que muestra cual es la precisión del valor obtenido vs el valor real.\n",
    "\n",
    "Después de dividir la base se reemplazan los valores perdidos en train_df que es renombra como titanic para Age y Embarked con la media y la moda respectivamente a demás se convierte la variable Embarked en variables dummy y la variable Sex en variable binaria. Continuamente se crean nuevas variables en donde se elevan al cuadrado Age, SibSp, Parch y Fare como una estrategia para mejorar las predicciones en los modelos (estrategia que se pondrá a prueba) ya que si se tiene una relación cuadrática entre estas variables y la supervivencia convendría elevarlas al cuadrado.\n",
    "\n",
    "Al aplicar el modelo y conocer su accuracy se realiza lo mismo que se realizó para titanic en test_df y es reemplazar los valores perdidos (con los valores de titanic), realizar las variables dummy, la variable binaria y crear las mismas variables elevadas al cuadrado para poder aplicar el modelo."
   ]
  },
  {
   "cell_type": "markdown",
   "metadata": {},
   "source": [
    "Con las variables descritas anteriormente se van hacer los siguientes modelos para obtener la predicción:\n",
    "\n",
    "* 1.1. Logistic Regression\n",
    "* 1.2. Cross Validation\n",
    "* 1.3. Multinomial Naive Bayes\n",
    "* 1.4. Gaussian Naive Bayes"
   ]
  },
  {
   "cell_type": "markdown",
   "metadata": {},
   "source": [
    "# 1.1. Logistic Regression"
   ]
  },
  {
   "cell_type": "code",
   "execution_count": 4,
   "metadata": {
    "collapsed": true
   },
   "outputs": [],
   "source": [
    "import pandas as pd\n",
    "import numpy as np"
   ]
  },
  {
   "cell_type": "code",
   "execution_count": 5,
   "metadata": {
    "collapsed": false
   },
   "outputs": [
    {
     "data": {
      "text/html": [
       "<div>\n",
       "<table border=\"1\" class=\"dataframe\">\n",
       "  <thead>\n",
       "    <tr style=\"text-align: right;\">\n",
       "      <th></th>\n",
       "      <th>PassengerId</th>\n",
       "      <th>Survived</th>\n",
       "      <th>Pclass</th>\n",
       "      <th>Name</th>\n",
       "      <th>Sex</th>\n",
       "      <th>Age</th>\n",
       "      <th>SibSp</th>\n",
       "      <th>Parch</th>\n",
       "      <th>Ticket</th>\n",
       "      <th>Fare</th>\n",
       "      <th>Cabin</th>\n",
       "      <th>Embarked</th>\n",
       "    </tr>\n",
       "  </thead>\n",
       "  <tbody>\n",
       "    <tr>\n",
       "      <th>0</th>\n",
       "      <td>1</td>\n",
       "      <td>0</td>\n",
       "      <td>3</td>\n",
       "      <td>Braund, Mr. Owen Harris</td>\n",
       "      <td>male</td>\n",
       "      <td>22</td>\n",
       "      <td>1</td>\n",
       "      <td>0</td>\n",
       "      <td>A/5 21171</td>\n",
       "      <td>7.2500</td>\n",
       "      <td>NaN</td>\n",
       "      <td>S</td>\n",
       "    </tr>\n",
       "    <tr>\n",
       "      <th>1</th>\n",
       "      <td>2</td>\n",
       "      <td>1</td>\n",
       "      <td>1</td>\n",
       "      <td>Cumings, Mrs. John Bradley (Florence Briggs Th...</td>\n",
       "      <td>female</td>\n",
       "      <td>38</td>\n",
       "      <td>1</td>\n",
       "      <td>0</td>\n",
       "      <td>PC 17599</td>\n",
       "      <td>71.2833</td>\n",
       "      <td>C85</td>\n",
       "      <td>C</td>\n",
       "    </tr>\n",
       "    <tr>\n",
       "      <th>2</th>\n",
       "      <td>3</td>\n",
       "      <td>1</td>\n",
       "      <td>3</td>\n",
       "      <td>Heikkinen, Miss. Laina</td>\n",
       "      <td>female</td>\n",
       "      <td>26</td>\n",
       "      <td>0</td>\n",
       "      <td>0</td>\n",
       "      <td>STON/O2. 3101282</td>\n",
       "      <td>7.9250</td>\n",
       "      <td>NaN</td>\n",
       "      <td>S</td>\n",
       "    </tr>\n",
       "    <tr>\n",
       "      <th>3</th>\n",
       "      <td>4</td>\n",
       "      <td>1</td>\n",
       "      <td>1</td>\n",
       "      <td>Futrelle, Mrs. Jacques Heath (Lily May Peel)</td>\n",
       "      <td>female</td>\n",
       "      <td>35</td>\n",
       "      <td>1</td>\n",
       "      <td>0</td>\n",
       "      <td>113803</td>\n",
       "      <td>53.1000</td>\n",
       "      <td>C123</td>\n",
       "      <td>S</td>\n",
       "    </tr>\n",
       "    <tr>\n",
       "      <th>4</th>\n",
       "      <td>5</td>\n",
       "      <td>0</td>\n",
       "      <td>3</td>\n",
       "      <td>Allen, Mr. William Henry</td>\n",
       "      <td>male</td>\n",
       "      <td>35</td>\n",
       "      <td>0</td>\n",
       "      <td>0</td>\n",
       "      <td>373450</td>\n",
       "      <td>8.0500</td>\n",
       "      <td>NaN</td>\n",
       "      <td>S</td>\n",
       "    </tr>\n",
       "  </tbody>\n",
       "</table>\n",
       "</div>"
      ],
      "text/plain": [
       "   PassengerId  Survived  Pclass  \\\n",
       "0            1         0       3   \n",
       "1            2         1       1   \n",
       "2            3         1       3   \n",
       "3            4         1       1   \n",
       "4            5         0       3   \n",
       "\n",
       "                                                Name     Sex  Age  SibSp  \\\n",
       "0                            Braund, Mr. Owen Harris    male   22      1   \n",
       "1  Cumings, Mrs. John Bradley (Florence Briggs Th...  female   38      1   \n",
       "2                             Heikkinen, Miss. Laina  female   26      0   \n",
       "3       Futrelle, Mrs. Jacques Heath (Lily May Peel)  female   35      1   \n",
       "4                           Allen, Mr. William Henry    male   35      0   \n",
       "\n",
       "   Parch            Ticket     Fare Cabin Embarked  \n",
       "0      0         A/5 21171   7.2500   NaN        S  \n",
       "1      0          PC 17599  71.2833   C85        C  \n",
       "2      0  STON/O2. 3101282   7.9250   NaN        S  \n",
       "3      0            113803  53.1000  C123        S  \n",
       "4      0            373450   8.0500   NaN        S  "
      ]
     },
     "execution_count": 5,
     "metadata": {},
     "output_type": "execute_result"
    }
   ],
   "source": [
    "train_df = pd.read_csv('titanic_train.csv', header=0)\n",
    "test_df = pd.read_csv('titanic_test.csv', header=0)\n",
    "train_df.head()"
   ]
  },
  {
   "cell_type": "code",
   "execution_count": 6,
   "metadata": {
    "collapsed": true
   },
   "outputs": [],
   "source": [
    "titanic = train_df\n",
    "titanic.Age.fillna(titanic.Age.mean(), inplace=True)\n",
    "titanic.Embarked.fillna('S', inplace=True)\n",
    "titanic['Sex_Female'] = titanic.Sex.map({'male':0, 'female':1})\n",
    "embarked_dummies = pd.get_dummies(titanic.Embarked, prefix='Embarked')\n",
    "titanic = pd.concat([titanic, embarked_dummies], axis=1)"
   ]
  },
  {
   "cell_type": "code",
   "execution_count": 7,
   "metadata": {
    "collapsed": false
   },
   "outputs": [
    {
     "data": {
      "text/plain": [
       "PassengerId      0\n",
       "Survived         0\n",
       "Pclass           0\n",
       "Name             0\n",
       "Sex              0\n",
       "Age              0\n",
       "SibSp            0\n",
       "Parch            0\n",
       "Ticket           0\n",
       "Fare             0\n",
       "Cabin          687\n",
       "Embarked         0\n",
       "Sex_Female       0\n",
       "Embarked_C       0\n",
       "Embarked_Q       0\n",
       "Embarked_S       0\n",
       "dtype: int64"
      ]
     },
     "execution_count": 7,
     "metadata": {},
     "output_type": "execute_result"
    }
   ],
   "source": [
    "titanic.isnull().sum()"
   ]
  },
  {
   "cell_type": "code",
   "execution_count": 8,
   "metadata": {
    "collapsed": false
   },
   "outputs": [],
   "source": [
    "titanic['Age2'] = titanic['Age'] ** 2\n",
    "titanic['SibSp2'] = titanic['SibSp'] ** 2\n",
    "titanic['Parch2'] = titanic['Parch'] ** 2\n",
    "titanic['Fare2'] = titanic['Fare'] ** 2"
   ]
  },
  {
   "cell_type": "code",
   "execution_count": 84,
   "metadata": {
    "collapsed": false
   },
   "outputs": [
    {
     "data": {
      "text/html": [
       "<div>\n",
       "<table border=\"1\" class=\"dataframe\">\n",
       "  <thead>\n",
       "    <tr style=\"text-align: right;\">\n",
       "      <th></th>\n",
       "      <th>PassengerId</th>\n",
       "      <th>Survived</th>\n",
       "      <th>Pclass</th>\n",
       "      <th>Name</th>\n",
       "      <th>Sex</th>\n",
       "      <th>Age</th>\n",
       "      <th>SibSp</th>\n",
       "      <th>Parch</th>\n",
       "      <th>Ticket</th>\n",
       "      <th>Fare</th>\n",
       "      <th>Cabin</th>\n",
       "      <th>Embarked</th>\n",
       "      <th>Sex_Female</th>\n",
       "      <th>Embarked_C</th>\n",
       "      <th>Embarked_Q</th>\n",
       "      <th>Embarked_S</th>\n",
       "      <th>Age2</th>\n",
       "      <th>SibSp2</th>\n",
       "      <th>Parch2</th>\n",
       "      <th>Fare2</th>\n",
       "    </tr>\n",
       "  </thead>\n",
       "  <tbody>\n",
       "    <tr>\n",
       "      <th>0</th>\n",
       "      <td>1</td>\n",
       "      <td>0</td>\n",
       "      <td>3</td>\n",
       "      <td>Braund, Mr. Owen Harris</td>\n",
       "      <td>male</td>\n",
       "      <td>22</td>\n",
       "      <td>1</td>\n",
       "      <td>0</td>\n",
       "      <td>A/5 21171</td>\n",
       "      <td>7.2500</td>\n",
       "      <td>NaN</td>\n",
       "      <td>S</td>\n",
       "      <td>0</td>\n",
       "      <td>0</td>\n",
       "      <td>0</td>\n",
       "      <td>1</td>\n",
       "      <td>484</td>\n",
       "      <td>1</td>\n",
       "      <td>0</td>\n",
       "      <td>52.562500</td>\n",
       "    </tr>\n",
       "    <tr>\n",
       "      <th>1</th>\n",
       "      <td>2</td>\n",
       "      <td>1</td>\n",
       "      <td>1</td>\n",
       "      <td>Cumings, Mrs. John Bradley (Florence Briggs Th...</td>\n",
       "      <td>female</td>\n",
       "      <td>38</td>\n",
       "      <td>1</td>\n",
       "      <td>0</td>\n",
       "      <td>PC 17599</td>\n",
       "      <td>71.2833</td>\n",
       "      <td>C85</td>\n",
       "      <td>C</td>\n",
       "      <td>1</td>\n",
       "      <td>1</td>\n",
       "      <td>0</td>\n",
       "      <td>0</td>\n",
       "      <td>1444</td>\n",
       "      <td>1</td>\n",
       "      <td>0</td>\n",
       "      <td>5081.308859</td>\n",
       "    </tr>\n",
       "  </tbody>\n",
       "</table>\n",
       "</div>"
      ],
      "text/plain": [
       "   PassengerId  Survived  Pclass  \\\n",
       "0            1         0       3   \n",
       "1            2         1       1   \n",
       "\n",
       "                                                Name     Sex  Age  SibSp  \\\n",
       "0                            Braund, Mr. Owen Harris    male   22      1   \n",
       "1  Cumings, Mrs. John Bradley (Florence Briggs Th...  female   38      1   \n",
       "\n",
       "   Parch     Ticket     Fare Cabin Embarked  Sex_Female  Embarked_C  \\\n",
       "0      0  A/5 21171   7.2500   NaN        S           0           0   \n",
       "1      0   PC 17599  71.2833   C85        C           1           1   \n",
       "\n",
       "   Embarked_Q  Embarked_S  Age2  SibSp2  Parch2        Fare2  \n",
       "0           0           1   484       1       0    52.562500  \n",
       "1           0           0  1444       1       0  5081.308859  "
      ]
     },
     "execution_count": 84,
     "metadata": {},
     "output_type": "execute_result"
    }
   ],
   "source": [
    "titanic.head(2)"
   ]
  },
  {
   "cell_type": "code",
   "execution_count": 9,
   "metadata": {
    "collapsed": false
   },
   "outputs": [
    {
     "name": "stdout",
     "output_type": "stream",
     "text": [
      "0.80269058296\n"
     ]
    }
   ],
   "source": [
    "# define X and y\n",
    "feature_cols = ['Pclass', 'Age', 'SibSp','Parch','Fare','Sex_Female', 'Embarked_C',\n",
    "                'Embarked_Q', 'Embarked_S', 'Age2', 'SibSp2','Parch2','Fare2']\n",
    "X = titanic[feature_cols]\n",
    "y = titanic.Survived\n",
    "\n",
    "# train/test split\n",
    "from sklearn.cross_validation import train_test_split\n",
    "X_train, X_test, y_train, y_test = train_test_split(X, y, random_state=1)\n",
    "\n",
    "# train a logistic regression model\n",
    "from sklearn.linear_model import LogisticRegression\n",
    "logreg = LogisticRegression(C=1e9)\n",
    "logreg.fit(X_train, y_train)\n",
    "\n",
    "# make predictions for testing set\n",
    "y_pred_class = logreg.predict(X_test)\n",
    "\n",
    "# calculate testing accuracy\n",
    "from sklearn import metrics\n",
    "print(metrics.accuracy_score(y_test, y_pred_class))"
   ]
  },
  {
   "cell_type": "code",
   "execution_count": 86,
   "metadata": {
    "collapsed": true
   },
   "outputs": [],
   "source": [
    "test_df.Age.fillna(titanic.Age.mean(), inplace=True)\n",
    "test_df.Fare.fillna(titanic.Fare.mean(), inplace=True) \n",
    "test_df.Embarked.fillna('S', inplace=True)\n",
    "test_df['Sex_Female'] = test_df.Sex.map({'male':0, 'female':1})\n",
    "embarked_dummies = pd.get_dummies(test_df.Embarked, prefix='Embarked')\n",
    "test_df = pd.concat([test_df, embarked_dummies], axis=1)\n",
    "test_df['Age2'] = test_df['Age'] ** 2\n",
    "test_df['SibSp2'] = test_df['SibSp'] ** 2\n",
    "test_df['Parch2'] = test_df['Parch'] ** 2\n",
    "test_df['Fare2'] = test_df['Fare'] ** 2"
   ]
  },
  {
   "cell_type": "code",
   "execution_count": 87,
   "metadata": {
    "collapsed": false
   },
   "outputs": [
    {
     "data": {
      "text/html": [
       "<div>\n",
       "<table border=\"1\" class=\"dataframe\">\n",
       "  <thead>\n",
       "    <tr style=\"text-align: right;\">\n",
       "      <th></th>\n",
       "      <th>PassengerId</th>\n",
       "      <th>Pclass</th>\n",
       "      <th>Name</th>\n",
       "      <th>Sex</th>\n",
       "      <th>Age</th>\n",
       "      <th>SibSp</th>\n",
       "      <th>Parch</th>\n",
       "      <th>Ticket</th>\n",
       "      <th>Fare</th>\n",
       "      <th>Cabin</th>\n",
       "      <th>Embarked</th>\n",
       "      <th>Sex_Female</th>\n",
       "      <th>Embarked_C</th>\n",
       "      <th>Embarked_Q</th>\n",
       "      <th>Embarked_S</th>\n",
       "      <th>Age2</th>\n",
       "      <th>SibSp2</th>\n",
       "      <th>Parch2</th>\n",
       "      <th>Fare2</th>\n",
       "    </tr>\n",
       "  </thead>\n",
       "  <tbody>\n",
       "    <tr>\n",
       "      <th>0</th>\n",
       "      <td>892</td>\n",
       "      <td>3</td>\n",
       "      <td>Kelly, Mr. James</td>\n",
       "      <td>male</td>\n",
       "      <td>34.5</td>\n",
       "      <td>0</td>\n",
       "      <td>0</td>\n",
       "      <td>330911</td>\n",
       "      <td>7.8292</td>\n",
       "      <td>NaN</td>\n",
       "      <td>Q</td>\n",
       "      <td>0</td>\n",
       "      <td>0</td>\n",
       "      <td>1</td>\n",
       "      <td>0</td>\n",
       "      <td>1190.25</td>\n",
       "      <td>0</td>\n",
       "      <td>0</td>\n",
       "      <td>61.296373</td>\n",
       "    </tr>\n",
       "    <tr>\n",
       "      <th>1</th>\n",
       "      <td>893</td>\n",
       "      <td>3</td>\n",
       "      <td>Wilkes, Mrs. James (Ellen Needs)</td>\n",
       "      <td>female</td>\n",
       "      <td>47.0</td>\n",
       "      <td>1</td>\n",
       "      <td>0</td>\n",
       "      <td>363272</td>\n",
       "      <td>7.0000</td>\n",
       "      <td>NaN</td>\n",
       "      <td>S</td>\n",
       "      <td>1</td>\n",
       "      <td>0</td>\n",
       "      <td>0</td>\n",
       "      <td>1</td>\n",
       "      <td>2209.00</td>\n",
       "      <td>1</td>\n",
       "      <td>0</td>\n",
       "      <td>49.000000</td>\n",
       "    </tr>\n",
       "  </tbody>\n",
       "</table>\n",
       "</div>"
      ],
      "text/plain": [
       "   PassengerId  Pclass                              Name     Sex   Age  SibSp  \\\n",
       "0          892       3                  Kelly, Mr. James    male  34.5      0   \n",
       "1          893       3  Wilkes, Mrs. James (Ellen Needs)  female  47.0      1   \n",
       "\n",
       "   Parch  Ticket    Fare Cabin Embarked  Sex_Female  Embarked_C  Embarked_Q  \\\n",
       "0      0  330911  7.8292   NaN        Q           0           0           1   \n",
       "1      0  363272  7.0000   NaN        S           1           0           0   \n",
       "\n",
       "   Embarked_S     Age2  SibSp2  Parch2      Fare2  \n",
       "0           0  1190.25       0       0  61.296373  \n",
       "1           1  2209.00       1       0  49.000000  "
      ]
     },
     "execution_count": 87,
     "metadata": {},
     "output_type": "execute_result"
    }
   ],
   "source": [
    "test_df.head(2)"
   ]
  },
  {
   "cell_type": "code",
   "execution_count": 88,
   "metadata": {
    "collapsed": false
   },
   "outputs": [],
   "source": [
    "predictions = logreg.predict(test_df[feature_cols])"
   ]
  },
  {
   "cell_type": "code",
   "execution_count": 89,
   "metadata": {
    "collapsed": true
   },
   "outputs": [],
   "source": [
    "# Kaggle needs the submission to have a certain format;\n",
    "# see https://www.kaggle.com/c/titanic-gettingStarted/download/gendermodel.csv\n",
    "# for an example of what it's supposed to look like.\n",
    "submission = pd.DataFrame({ 'PassengerId': test_df['PassengerId'],\n",
    "                            'Survived': predictions })\n",
    "submission.to_csv(\"titanic_submission1.csv\", index=False)"
   ]
  },
  {
   "cell_type": "markdown",
   "metadata": {},
   "source": [
    "# 1.2. Cross Validation"
   ]
  },
  {
   "cell_type": "code",
   "execution_count": 10,
   "metadata": {
    "collapsed": true
   },
   "outputs": [],
   "source": [
    "import pandas as pd\n",
    "import numpy as np\n",
    "train_df = pd.read_csv('titanic_train.csv', header=0)\n",
    "test_df = pd.read_csv('titanic_test.csv', header=0)"
   ]
  },
  {
   "cell_type": "code",
   "execution_count": 11,
   "metadata": {
    "collapsed": true
   },
   "outputs": [],
   "source": [
    "titanic = train_df\n",
    "titanic.Age.fillna(titanic.Age.mean(), inplace=True)\n",
    "titanic.Embarked.fillna('S', inplace=True)\n",
    "titanic['Sex_Female'] = titanic.Sex.map({'male':0, 'female':1})\n",
    "embarked_dummies = pd.get_dummies(titanic.Embarked, prefix='Embarked')\n",
    "titanic = pd.concat([titanic, embarked_dummies], axis=1)\n",
    "titanic['Age2'] = titanic['Age'] ** 2\n",
    "titanic['SibSp2'] = titanic['SibSp'] ** 2\n",
    "titanic['Parch2'] = titanic['Parch'] ** 2\n",
    "titanic['Fare2'] = titanic['Fare'] ** 2"
   ]
  },
  {
   "cell_type": "code",
   "execution_count": 12,
   "metadata": {
    "collapsed": false
   },
   "outputs": [
    {
     "data": {
      "text/plain": [
       "[0.78888888888888886,\n",
       " 0.8314606741573034,\n",
       " 0.7640449438202247,\n",
       " 0.8539325842696629,\n",
       " 0.7865168539325843,\n",
       " 0.7865168539325843,\n",
       " 0.7865168539325843,\n",
       " 0.7640449438202247,\n",
       " 0.8651685393258427,\n",
       " 0.8314606741573034]"
      ]
     },
     "execution_count": 12,
     "metadata": {},
     "output_type": "execute_result"
    }
   ],
   "source": [
    "# define X and y\n",
    "feature_cols = ['Pclass', 'Age', 'SibSp','Parch','Fare','Sex_Female', 'Embarked_C','Embarked_Q', \n",
    "                'Embarked_S', 'Age2', 'SibSp2','Parch2','Fare2']\n",
    "X = titanic[feature_cols]\n",
    "y = titanic.Survived\n",
    "\n",
    "# Create k-folds\n",
    "from sklearn.cross_validation import KFold\n",
    "kf = KFold(X.shape[0], n_folds=10, random_state=0)\n",
    "\n",
    "results = []\n",
    "models = []\n",
    "for train_index, test_index in kf:\n",
    "    X_train, X_test = X.iloc[train_index], X.iloc[test_index]\n",
    "    y_train, y_test = y.iloc[train_index], y.iloc[test_index]\n",
    "\n",
    "    # train a logistic regression model\n",
    "    models.append(LogisticRegression(C=1e9))\n",
    "    \n",
    "    models[-1].fit(X_train, y_train)\n",
    "\n",
    "    # make predictions for testing set\n",
    "    y_pred_class = models[-1].predict(X_test)\n",
    "\n",
    "    # calculate testing accuracy\n",
    "    results.append(metrics.accuracy_score(y_test, y_pred_class))\n",
    "results"
   ]
  },
  {
   "cell_type": "code",
   "execution_count": 93,
   "metadata": {
    "collapsed": true
   },
   "outputs": [],
   "source": [
    "test_df.Age.fillna(titanic.Age.mean(), inplace=True)\n",
    "test_df.Fare.fillna(titanic.Fare.mean(), inplace=True) \n",
    "test_df.Embarked.fillna('S', inplace=True)\n",
    "test_df['Sex_Female'] = test_df.Sex.map({'male':0, 'female':1})\n",
    "embarked_dummies = pd.get_dummies(test_df.Embarked, prefix='Embarked')\n",
    "test_df = pd.concat([test_df, embarked_dummies], axis=1)\n",
    "test_df['Age2'] = test_df['Age'] ** 2\n",
    "test_df['SibSp2'] = test_df['SibSp'] ** 2\n",
    "test_df['Parch2'] = test_df['Parch'] ** 2\n",
    "test_df['Fare2'] = test_df['Fare'] ** 2"
   ]
  },
  {
   "cell_type": "code",
   "execution_count": 94,
   "metadata": {
    "collapsed": true
   },
   "outputs": [],
   "source": [
    "probas = pd.DataFrame(index=test_df[feature_cols].index, columns=['p'+ str(i) for i in range(10)])"
   ]
  },
  {
   "cell_type": "code",
   "execution_count": 95,
   "metadata": {
    "collapsed": true
   },
   "outputs": [],
   "source": [
    "for i in range(10):\n",
    "    proba = models[i].predict_proba(test_df[feature_cols])[:, 1]\n",
    "    probas.iloc[:, i] = proba"
   ]
  },
  {
   "cell_type": "code",
   "execution_count": 96,
   "metadata": {
    "collapsed": true
   },
   "outputs": [],
   "source": [
    "predictions = ((probas.mean(axis=1) > 0.5) * 1.0).values\n",
    "predictions = predictions.astype(np.int)"
   ]
  },
  {
   "cell_type": "code",
   "execution_count": 28,
   "metadata": {
    "collapsed": true
   },
   "outputs": [],
   "source": [
    "submission = pd.DataFrame({ 'PassengerId': test_df['PassengerId'],\n",
    "                            'Survived': predictions })\n",
    "submission.to_csv(\"titanic_submission_5.csv\", index=False)"
   ]
  },
  {
   "cell_type": "markdown",
   "metadata": {},
   "source": [
    "# 1.3. Multinomial Naive Bayes"
   ]
  },
  {
   "cell_type": "code",
   "execution_count": 97,
   "metadata": {
    "collapsed": true
   },
   "outputs": [],
   "source": [
    "import pandas as pd\n",
    "import numpy as np\n",
    "train_df = pd.read_csv('titanic_train.csv', header=0)\n",
    "test_df = pd.read_csv('titanic_test.csv', header=0)"
   ]
  },
  {
   "cell_type": "code",
   "execution_count": 98,
   "metadata": {
    "collapsed": true
   },
   "outputs": [],
   "source": [
    "titanic = train_df\n",
    "titanic.Age.fillna(titanic.Age.mean(), inplace=True)\n",
    "titanic.Embarked.fillna('S', inplace=True)\n",
    "titanic['Sex_Female'] = titanic.Sex.map({'male':0, 'female':1})\n",
    "embarked_dummies = pd.get_dummies(titanic.Embarked, prefix='Embarked')\n",
    "titanic = pd.concat([titanic, embarked_dummies], axis=1)\n",
    "titanic['Age2'] = titanic['Age'] ** 2\n",
    "titanic['SibSp2'] = titanic['SibSp'] ** 2\n",
    "titanic['Parch2'] = titanic['Parch'] ** 2\n",
    "titanic['Fare2'] = titanic['Fare'] ** 2"
   ]
  },
  {
   "cell_type": "code",
   "execution_count": 99,
   "metadata": {
    "collapsed": true
   },
   "outputs": [],
   "source": [
    "feature_cols = ['Pclass', 'Age', 'SibSp','Parch','Fare','Sex_Female', 'Embarked_C',\n",
    "                'Embarked_Q', 'Embarked_S', 'Age2', 'SibSp2','Parch2','Fare2']\n",
    "X = titanic[feature_cols]\n",
    "y = titanic.Survived\n",
    "\n",
    "# train/test split\n",
    "from sklearn.cross_validation import train_test_split\n",
    "X_train, X_test, y_train, y_test = train_test_split(X, y, random_state=1)"
   ]
  },
  {
   "cell_type": "code",
   "execution_count": 100,
   "metadata": {
    "collapsed": false
   },
   "outputs": [
    {
     "data": {
      "text/plain": [
       "0.61434977578475336"
      ]
     },
     "execution_count": 100,
     "metadata": {},
     "output_type": "execute_result"
    }
   ],
   "source": [
    "from sklearn.naive_bayes import MultinomialNB, GaussianNB\n",
    "from sklearn import metrics\n",
    "mnb = MultinomialNB()\n",
    "mnb.fit(X_train, y_train)\n",
    "y_pred_class = mnb.predict(X_test)\n",
    "metrics.accuracy_score(y_test, y_pred_class)"
   ]
  },
  {
   "cell_type": "code",
   "execution_count": 101,
   "metadata": {
    "collapsed": true
   },
   "outputs": [],
   "source": [
    "test_df.Age.fillna(titanic.Age.mean(), inplace=True)\n",
    "test_df.Fare.fillna(titanic.Fare.mean(), inplace=True) \n",
    "test_df.Embarked.fillna('S', inplace=True)\n",
    "test_df['Sex_Female'] = test_df.Sex.map({'male':0, 'female':1})\n",
    "embarked_dummies = pd.get_dummies(test_df.Embarked, prefix='Embarked')\n",
    "test_df = pd.concat([test_df, embarked_dummies], axis=1)\n",
    "test_df['Age2'] = test_df['Age'] ** 2\n",
    "test_df['SibSp2'] = test_df['SibSp'] ** 2\n",
    "test_df['Parch2'] = test_df['Parch'] ** 2\n",
    "test_df['Fare2'] = test_df['Fare'] ** 2"
   ]
  },
  {
   "cell_type": "code",
   "execution_count": 102,
   "metadata": {
    "collapsed": true
   },
   "outputs": [],
   "source": [
    "predictions = mnb.predict(test_df[feature_cols])"
   ]
  },
  {
   "cell_type": "code",
   "execution_count": 35,
   "metadata": {
    "collapsed": true
   },
   "outputs": [],
   "source": [
    "submission = pd.DataFrame({ 'PassengerId': test_df['PassengerId'],\n",
    "                            'Survived': predictions })\n",
    "submission.to_csv(\"titanic_submission8.csv\", index=False)"
   ]
  },
  {
   "cell_type": "markdown",
   "metadata": {},
   "source": [
    "# 1.4. Gaussian Naive Bayes"
   ]
  },
  {
   "cell_type": "code",
   "execution_count": 104,
   "metadata": {
    "collapsed": true
   },
   "outputs": [],
   "source": [
    "import pandas as pd\n",
    "import numpy as np\n",
    "train_df = pd.read_csv('titanic_train.csv', header=0)\n",
    "test_df = pd.read_csv('titanic_test.csv', header=0)"
   ]
  },
  {
   "cell_type": "code",
   "execution_count": 105,
   "metadata": {
    "collapsed": true
   },
   "outputs": [],
   "source": [
    "titanic = train_df\n",
    "titanic.Age.fillna(titanic.Age.mean(), inplace=True)\n",
    "titanic.Embarked.fillna('S', inplace=True)\n",
    "titanic['Sex_Female'] = titanic.Sex.map({'male':0, 'female':1})\n",
    "embarked_dummies = pd.get_dummies(titanic.Embarked, prefix='Embarked')\n",
    "titanic = pd.concat([titanic, embarked_dummies], axis=1)\n",
    "titanic['Age2'] = titanic['Age'] ** 2\n",
    "titanic['SibSp2'] = titanic['SibSp'] ** 2\n",
    "titanic['Parch2'] = titanic['Parch'] ** 2\n",
    "titanic['Fare2'] = titanic['Fare'] ** 2"
   ]
  },
  {
   "cell_type": "code",
   "execution_count": 106,
   "metadata": {
    "collapsed": true
   },
   "outputs": [],
   "source": [
    "feature_cols = ['Pclass', 'Age', 'SibSp','Parch','Fare','Sex_Female', 'Embarked_C',\n",
    "                'Embarked_Q', 'Embarked_S', 'Age2', 'SibSp2','Parch2','Fare2']\n",
    "X = titanic[feature_cols]\n",
    "y = titanic.Survived\n",
    "\n",
    "# train/test split\n",
    "from sklearn.cross_validation import train_test_split\n",
    "X_train, X_test, y_train, y_test = train_test_split(X, y, random_state=1)"
   ]
  },
  {
   "cell_type": "code",
   "execution_count": 107,
   "metadata": {
    "collapsed": false
   },
   "outputs": [
    {
     "data": {
      "text/plain": [
       "0.72197309417040356"
      ]
     },
     "execution_count": 107,
     "metadata": {},
     "output_type": "execute_result"
    }
   ],
   "source": [
    "# testing accuracy of Gaussian Naive Bayes\n",
    "gnb = GaussianNB()\n",
    "gnb.fit(X_train, y_train)\n",
    "y_pred_class = gnb.predict(X_test)\n",
    "metrics.accuracy_score(y_test, y_pred_class)"
   ]
  },
  {
   "cell_type": "code",
   "execution_count": 108,
   "metadata": {
    "collapsed": true
   },
   "outputs": [],
   "source": [
    "test_df.Age.fillna(titanic.Age.mean(), inplace=True)\n",
    "test_df.Fare.fillna(titanic.Fare.mean(), inplace=True) \n",
    "test_df.Embarked.fillna('S', inplace=True)\n",
    "test_df['Sex_Female'] = test_df.Sex.map({'male':0, 'female':1})\n",
    "embarked_dummies = pd.get_dummies(test_df.Embarked, prefix='Embarked')\n",
    "test_df = pd.concat([test_df, embarked_dummies], axis=1)\n",
    "test_df['Age2'] = test_df['Age'] ** 2\n",
    "test_df['SibSp2'] = test_df['SibSp'] ** 2\n",
    "test_df['Parch2'] = test_df['Parch'] ** 2\n",
    "test_df['Fare2'] = test_df['Fare'] ** 2"
   ]
  },
  {
   "cell_type": "code",
   "execution_count": 109,
   "metadata": {
    "collapsed": true
   },
   "outputs": [],
   "source": [
    "predictions = gnb.predict(test_df[feature_cols])"
   ]
  },
  {
   "cell_type": "code",
   "execution_count": 33,
   "metadata": {
    "collapsed": true
   },
   "outputs": [],
   "source": [
    "submission = pd.DataFrame({ 'PassengerId': test_df['PassengerId'],\n",
    "                            'Survived': predictions })\n",
    "submission.to_csv(\"titanic_submission9.csv\", index=False)"
   ]
  },
  {
   "cell_type": "markdown",
   "metadata": {},
   "source": [
    "Al realizar los anteriores modelos y subirlos a Kaggle se puede determinar que el modelo que tuvo el mejor modelo fue la regresión logística y el modelo que tuvo la peor predicción fue MultinomialNB. Lo que se realizará a continución será eliminar variables que posiblemente este aportando muy poco al modelo se utilizan tres métodos:\n",
    "\n",
    "* 2.1. Eliminación de variables con poca varianza: Se eliminan todos los elementos cuya varianza no cumple con algún umbral. Por defecto, se eliminan todas las variables con varianza cero, es decir, características que tienen el mismo valor en todas las muestras.\n",
    "\n",
    "* 2.2. Selección de variables univariadas: SelectPercentile elimina pero un porcentaje más alto de puntuación variables especificado por el usuario mediante pruebas estadísticas univariantes comunes para cada característica: tasa de falsos positivos SelectFpr, tasa de falso descubrimiento SelectFdr, o la familia de error SelectFwe.\n",
    "\n",
    "* 2.3. Función recursiva de eliminación: Tiene en cuenta un estimador externo que asigna ponderaciones a las variables, el estimador es entrenado en el conjunto inicial de variables y los pesos son asignados a cada uno de ellos. Entonces, cuenta los pesos absolutos más pequeños y estos se podan del conjunto de variables actual, hasta que finalmente se alcanza el número deseado de características para seleccionar.\n",
    "\n",
    "Después de conocer cuales son las variables que no aportan al modelo según cada uno de los tres métodos se procede a correr nuevamente los cuatro métodos realizados en el Primer Punto sin dichas variables."
   ]
  },
  {
   "cell_type": "markdown",
   "metadata": {},
   "source": [
    "# 2. Eliminación de Variables"
   ]
  },
  {
   "cell_type": "markdown",
   "metadata": {},
   "source": [
    "# 2.1. Eliminación de Variables con poca varianza"
   ]
  },
  {
   "cell_type": "code",
   "execution_count": 34,
   "metadata": {
    "collapsed": true
   },
   "outputs": [],
   "source": [
    "features = ['Pclass', 'Age', 'SibSp','Parch','Fare','Sex_Female', 'Embarked_C','Embarked_Q', 'Embarked_S',\n",
    "            'Age2', 'SibSp2','Parch2','Fare2']\n",
    "X = titanic[list(features)]\n",
    "y = titanic['Survived']"
   ]
  },
  {
   "cell_type": "code",
   "execution_count": 35,
   "metadata": {
    "collapsed": true
   },
   "outputs": [],
   "source": [
    "results = pd.DataFrame(index=['k='+ str(i) for i in range(1, 14)], columns=['mean_accuracy'])"
   ]
  },
  {
   "cell_type": "code",
   "execution_count": 36,
   "metadata": {
    "collapsed": false
   },
   "outputs": [
    {
     "data": {
      "text/html": [
       "<div>\n",
       "<table border=\"1\" class=\"dataframe\">\n",
       "  <thead>\n",
       "    <tr style=\"text-align: right;\">\n",
       "      <th></th>\n",
       "      <th>mean_accuracy</th>\n",
       "    </tr>\n",
       "  </thead>\n",
       "  <tbody>\n",
       "    <tr>\n",
       "      <th>k=1</th>\n",
       "      <td>0.786698</td>\n",
       "    </tr>\n",
       "    <tr>\n",
       "      <th>k=2</th>\n",
       "      <td>0.786698</td>\n",
       "    </tr>\n",
       "    <tr>\n",
       "      <th>k=3</th>\n",
       "      <td>0.782229</td>\n",
       "    </tr>\n",
       "    <tr>\n",
       "      <th>k=4</th>\n",
       "      <td>0.775525</td>\n",
       "    </tr>\n",
       "    <tr>\n",
       "      <th>k=5</th>\n",
       "      <td>0.774426</td>\n",
       "    </tr>\n",
       "    <tr>\n",
       "      <th>k=6</th>\n",
       "      <td>0.771043</td>\n",
       "    </tr>\n",
       "    <tr>\n",
       "      <th>k=7</th>\n",
       "      <td>0.792354</td>\n",
       "    </tr>\n",
       "    <tr>\n",
       "      <th>k=8</th>\n",
       "      <td>0.790132</td>\n",
       "    </tr>\n",
       "    <tr>\n",
       "      <th>k=9</th>\n",
       "      <td>0.79575</td>\n",
       "    </tr>\n",
       "    <tr>\n",
       "      <th>k=10</th>\n",
       "      <td>0.802517</td>\n",
       "    </tr>\n",
       "    <tr>\n",
       "      <th>k=11</th>\n",
       "      <td>0.798035</td>\n",
       "    </tr>\n",
       "    <tr>\n",
       "      <th>k=12</th>\n",
       "      <td>0.803654</td>\n",
       "    </tr>\n",
       "    <tr>\n",
       "      <th>k=13</th>\n",
       "      <td>0.800257</td>\n",
       "    </tr>\n",
       "  </tbody>\n",
       "</table>\n",
       "</div>"
      ],
      "text/plain": [
       "     mean_accuracy\n",
       "k=1       0.786698\n",
       "k=2       0.786698\n",
       "k=3       0.782229\n",
       "k=4       0.775525\n",
       "k=5       0.774426\n",
       "k=6       0.771043\n",
       "k=7       0.792354\n",
       "k=8       0.790132\n",
       "k=9        0.79575\n",
       "k=10      0.802517\n",
       "k=11      0.798035\n",
       "k=12      0.803654\n",
       "k=13      0.800257"
      ]
     },
     "execution_count": 36,
     "metadata": {},
     "output_type": "execute_result"
    }
   ],
   "source": [
    "from sklearn.feature_selection import SelectKBest\n",
    "from sklearn.cross_validation import cross_val_score\n",
    "from sklearn.linear_model import LogisticRegression\n",
    "\n",
    "logreg = LogisticRegression()\n",
    "t=[]\n",
    "\n",
    "for i in range(1,14):\n",
    "    sel = SelectKBest(k=i)\n",
    "    sel.fit(X, y)\n",
    "    sel.get_support()\n",
    "    X_sel = sel.transform(X)\n",
    "    results.loc['k='+str(i)] = pd.Series(cross_val_score(logreg, X_sel, y, cv=10, scoring='accuracy')).mean()\n",
    "\n",
    "results"
   ]
  },
  {
   "cell_type": "code",
   "execution_count": 37,
   "metadata": {
    "collapsed": false
   },
   "outputs": [
    {
     "data": {
      "text/plain": [
       "mean_accuracy    k=12\n",
       "dtype: object"
      ]
     },
     "execution_count": 37,
     "metadata": {},
     "output_type": "execute_result"
    }
   ],
   "source": [
    "results.idxmax()"
   ]
  },
  {
   "cell_type": "code",
   "execution_count": 38,
   "metadata": {
    "collapsed": false
   },
   "outputs": [
    {
     "name": "stdout",
     "output_type": "stream",
     "text": [
      "['Embarked_Q']\n"
     ]
    }
   ],
   "source": [
    "from sklearn.feature_selection import SelectKBest\n",
    "\n",
    "sel = SelectKBest(k=12)\n",
    "sel.fit(X, y)\n",
    "sel.get_support()\n",
    "print(np.array(features)[~sel.get_support()])"
   ]
  },
  {
   "cell_type": "markdown",
   "metadata": {},
   "source": [
    "# 2.2. Selección de variables univariadas"
   ]
  },
  {
   "cell_type": "code",
   "execution_count": 39,
   "metadata": {
    "collapsed": true
   },
   "outputs": [],
   "source": [
    "features = ['Pclass', 'Age', 'SibSp','Parch','Fare','Sex_Female', 'Embarked_C','Embarked_Q', 'Embarked_S', \n",
    "            'Age2', 'SibSp2','Parch2','Fare2']\n",
    "X = titanic[list(features)]\n",
    "y = titanic['Survived']"
   ]
  },
  {
   "cell_type": "code",
   "execution_count": 40,
   "metadata": {
    "collapsed": false
   },
   "outputs": [],
   "source": [
    "from sklearn.feature_selection import SelectPercentile, f_classif\n",
    "\n",
    "results = pd.DataFrame(index=range(99), columns=['mean_accuracy'])\n",
    "\n",
    "for i in range(1,100):\n",
    "    sel = SelectPercentile(f_classif, percentile=i)\n",
    "    sel.fit(X, y)\n",
    "    sel.get_support()\n",
    "    X_sel = sel.transform(X)\n",
    "    results.iloc[i-1] = pd.Series(cross_val_score(logreg, X_sel, y, cv=10, scoring='accuracy')).mean()"
   ]
  },
  {
   "cell_type": "code",
   "execution_count": 41,
   "metadata": {
    "collapsed": false
   },
   "outputs": [
    {
     "data": {
      "text/plain": [
       "mean_accuracy    91\n",
       "dtype: int64"
      ]
     },
     "execution_count": 41,
     "metadata": {},
     "output_type": "execute_result"
    }
   ],
   "source": [
    "results.idxmax()"
   ]
  },
  {
   "cell_type": "code",
   "execution_count": 42,
   "metadata": {
    "collapsed": false
   },
   "outputs": [
    {
     "data": {
      "text/plain": [
       "mean_accuracy    0.803654\n",
       "Name: 91, dtype: object"
      ]
     },
     "execution_count": 42,
     "metadata": {},
     "output_type": "execute_result"
    }
   ],
   "source": [
    "results.iloc[91]"
   ]
  },
  {
   "cell_type": "code",
   "execution_count": 43,
   "metadata": {
    "collapsed": false
   },
   "outputs": [
    {
     "name": "stdout",
     "output_type": "stream",
     "text": [
      "['Embarked_Q' 'Parch2']\n"
     ]
    }
   ],
   "source": [
    "from sklearn.feature_selection import SelectPercentile, f_classif\n",
    "\n",
    "sel = SelectPercentile(f_classif, percentile=91)\n",
    "sel.fit(X, y)\n",
    "sel.get_support()\n",
    "print(np.array(features)[~sel.get_support()])"
   ]
  },
  {
   "cell_type": "markdown",
   "metadata": {},
   "source": [
    "# 2.3. Función recursiva de eliminación"
   ]
  },
  {
   "cell_type": "code",
   "execution_count": 44,
   "metadata": {
    "collapsed": true
   },
   "outputs": [],
   "source": [
    "features = ['Pclass', 'Age', 'SibSp','Parch','Fare','Sex_Female', 'Embarked_C','Embarked_Q', 'Embarked_S', \n",
    "            'Age2', 'SibSp2','Parch2','Fare2']\n",
    "X = titanic[list(features)]\n",
    "y = titanic['Survived']"
   ]
  },
  {
   "cell_type": "code",
   "execution_count": 45,
   "metadata": {
    "collapsed": false
   },
   "outputs": [
    {
     "data": {
      "text/html": [
       "<div>\n",
       "<table border=\"1\" class=\"dataframe\">\n",
       "  <thead>\n",
       "    <tr style=\"text-align: right;\">\n",
       "      <th></th>\n",
       "      <th>mean_accuracy</th>\n",
       "    </tr>\n",
       "  </thead>\n",
       "  <tbody>\n",
       "    <tr>\n",
       "      <th>0</th>\n",
       "      <td>0.786698</td>\n",
       "    </tr>\n",
       "    <tr>\n",
       "      <th>1</th>\n",
       "      <td>0.786698</td>\n",
       "    </tr>\n",
       "    <tr>\n",
       "      <th>2</th>\n",
       "      <td>0.772179</td>\n",
       "    </tr>\n",
       "    <tr>\n",
       "      <th>3</th>\n",
       "      <td>0.771055</td>\n",
       "    </tr>\n",
       "    <tr>\n",
       "      <th>4</th>\n",
       "      <td>0.784526</td>\n",
       "    </tr>\n",
       "    <tr>\n",
       "      <th>5</th>\n",
       "      <td>0.782304</td>\n",
       "    </tr>\n",
       "    <tr>\n",
       "      <th>6</th>\n",
       "      <td>0.79017</td>\n",
       "    </tr>\n",
       "    <tr>\n",
       "      <th>7</th>\n",
       "      <td>0.796886</td>\n",
       "    </tr>\n",
       "    <tr>\n",
       "      <th>8</th>\n",
       "      <td>0.796886</td>\n",
       "    </tr>\n",
       "    <tr>\n",
       "      <th>9</th>\n",
       "      <td>0.802543</td>\n",
       "    </tr>\n",
       "    <tr>\n",
       "      <th>10</th>\n",
       "      <td>0.800257</td>\n",
       "    </tr>\n",
       "    <tr>\n",
       "      <th>11</th>\n",
       "      <td>0.809247</td>\n",
       "    </tr>\n",
       "    <tr>\n",
       "      <th>12</th>\n",
       "      <td>0.800257</td>\n",
       "    </tr>\n",
       "  </tbody>\n",
       "</table>\n",
       "</div>"
      ],
      "text/plain": [
       "   mean_accuracy\n",
       "0       0.786698\n",
       "1       0.786698\n",
       "2       0.772179\n",
       "3       0.771055\n",
       "4       0.784526\n",
       "5       0.782304\n",
       "6        0.79017\n",
       "7       0.796886\n",
       "8       0.796886\n",
       "9       0.802543\n",
       "10      0.800257\n",
       "11      0.809247\n",
       "12      0.800257"
      ]
     },
     "execution_count": 45,
     "metadata": {},
     "output_type": "execute_result"
    }
   ],
   "source": [
    "from sklearn.feature_selection import RFE\n",
    "\n",
    "results = pd.DataFrame(index=range(13), columns=['mean_accuracy'])\n",
    "\n",
    "for i in range(1,14):\n",
    "    sel = RFE(estimator=logreg, n_features_to_select=i)\n",
    "    sel.fit(X, y)\n",
    "    X_sel = sel.transform(X)\n",
    "    results.iloc[i-1] = cross_val_score(logreg, X_sel, y, cv=10, scoring='accuracy').mean()\n",
    "results"
   ]
  },
  {
   "cell_type": "code",
   "execution_count": 46,
   "metadata": {
    "collapsed": false
   },
   "outputs": [
    {
     "data": {
      "text/plain": [
       "mean_accuracy    11\n",
       "dtype: int64"
      ]
     },
     "execution_count": 46,
     "metadata": {},
     "output_type": "execute_result"
    }
   ],
   "source": [
    "results.idxmax()"
   ]
  },
  {
   "cell_type": "code",
   "execution_count": 47,
   "metadata": {
    "collapsed": false
   },
   "outputs": [
    {
     "name": "stdout",
     "output_type": "stream",
     "text": [
      "['Age2' 'Fare2']\n"
     ]
    }
   ],
   "source": [
    "from sklearn.feature_selection import RFE\n",
    "sel = RFE(estimator=logreg, n_features_to_select=11)\n",
    "sel.fit(X, y)\n",
    "print(np.array(features)[~sel.get_support()])"
   ]
  },
  {
   "cell_type": "markdown",
   "metadata": {},
   "source": [
    "Por medio de los tres métodos de eliminación se conocen cuales son las variables que se van a utilizar para volver a realizar el modelamiento de los datos y concluir si mejoran las precisiones de los modelos."
   ]
  },
  {
   "cell_type": "markdown",
   "metadata": {},
   "source": [
    "# 3. Primer Modelamiento Eliminando Variables"
   ]
  },
  {
   "cell_type": "markdown",
   "metadata": {},
   "source": [
    "# 3.1. Logistic Regression Eliminando 'Embarked_Q'"
   ]
  },
  {
   "cell_type": "code",
   "execution_count": 110,
   "metadata": {
    "collapsed": true
   },
   "outputs": [],
   "source": [
    "import pandas as pd\n",
    "import numpy as np\n",
    "train_df = pd.read_csv('titanic_train.csv', header=0)\n",
    "test_df = pd.read_csv('titanic_test.csv', header=0)"
   ]
  },
  {
   "cell_type": "code",
   "execution_count": 111,
   "metadata": {
    "collapsed": true
   },
   "outputs": [],
   "source": [
    "titanic = train_df\n",
    "titanic.Age.fillna(titanic.Age.mean(), inplace=True)\n",
    "titanic.Embarked.fillna('S', inplace=True)\n",
    "titanic['Sex_Female'] = titanic.Sex.map({'male':0, 'female':1})\n",
    "embarked_dummies = pd.get_dummies(titanic.Embarked, prefix='Embarked')\n",
    "titanic = pd.concat([titanic, embarked_dummies], axis=1)\n",
    "titanic['Age2'] = titanic['Age'] ** 2\n",
    "titanic['SibSp2'] = titanic['SibSp'] ** 2\n",
    "titanic['Parch2'] = titanic['Parch'] ** 2\n",
    "titanic['Fare2'] = titanic['Fare'] ** 2"
   ]
  },
  {
   "cell_type": "code",
   "execution_count": 112,
   "metadata": {
    "collapsed": false
   },
   "outputs": [
    {
     "name": "stdout",
     "output_type": "stream",
     "text": [
      "0.807174887892\n"
     ]
    }
   ],
   "source": [
    "# define X and y\n",
    "feature_cols = ['Pclass', 'Age', 'SibSp','Parch','Fare','Sex_Female', 'Embarked_C', 'Embarked_S', 'Age2',\n",
    "                'SibSp2','Parch2','Fare2']\n",
    "X = titanic[feature_cols]\n",
    "y = titanic.Survived\n",
    "\n",
    "# train/test split\n",
    "from sklearn.cross_validation import train_test_split\n",
    "X_train, X_test, y_train, y_test = train_test_split(X, y, random_state=1)\n",
    "\n",
    "# train a logistic regression model\n",
    "from sklearn.linear_model import LogisticRegression\n",
    "logreg = LogisticRegression(C=1e9)\n",
    "logreg.fit(X_train, y_train)\n",
    "\n",
    "# make predictions for testing set\n",
    "y_pred_class = logreg.predict(X_test)\n",
    "\n",
    "# calculate testing accuracy\n",
    "from sklearn import metrics\n",
    "print(metrics.accuracy_score(y_test, y_pred_class))"
   ]
  },
  {
   "cell_type": "code",
   "execution_count": 113,
   "metadata": {
    "collapsed": true
   },
   "outputs": [],
   "source": [
    "test_df.Age.fillna(test_df.Age.mean(), inplace=True) \n",
    "test_df.Fare.fillna(test_df.Fare.mean(), inplace=True) \n",
    "test_df.Embarked.fillna('S', inplace=True)\n",
    "test_df['Sex_Female'] = test_df.Sex.map({'male':0, 'female':1})\n",
    "embarked_dummies = pd.get_dummies(test_df.Embarked, prefix='Embarked')\n",
    "test_df = pd.concat([test_df, embarked_dummies], axis=1)\n",
    "test_df['Age2'] = test_df['Age'] ** 2\n",
    "test_df['SibSp2'] = test_df['SibSp'] ** 2\n",
    "test_df['Parch2'] = test_df['Parch'] ** 2\n",
    "test_df['Fare2'] = test_df['Fare'] ** 2"
   ]
  },
  {
   "cell_type": "code",
   "execution_count": 114,
   "metadata": {
    "collapsed": true
   },
   "outputs": [],
   "source": [
    "predictions = logreg.predict(test_df[feature_cols])"
   ]
  },
  {
   "cell_type": "code",
   "execution_count": 53,
   "metadata": {
    "collapsed": true
   },
   "outputs": [],
   "source": [
    "submission = pd.DataFrame({ 'PassengerId': test_df['PassengerId'],\n",
    "                            'Survived': predictions })\n",
    "submission.to_csv(\"titanic_submission2.csv\", index=False)"
   ]
  },
  {
   "cell_type": "markdown",
   "metadata": {},
   "source": [
    "# 3.2. Logistic Regression Eliminando 'Embarked_Q' 'Parch2'"
   ]
  },
  {
   "cell_type": "code",
   "execution_count": 115,
   "metadata": {
    "collapsed": true
   },
   "outputs": [],
   "source": [
    "import pandas as pd\n",
    "import numpy as np\n",
    "train_df = pd.read_csv('titanic_train.csv', header=0)\n",
    "test_df = pd.read_csv('titanic_test.csv', header=0)"
   ]
  },
  {
   "cell_type": "code",
   "execution_count": 116,
   "metadata": {
    "collapsed": true
   },
   "outputs": [],
   "source": [
    "titanic = train_df\n",
    "titanic.Age.fillna(titanic.Age.mean(), inplace=True)\n",
    "titanic.Embarked.fillna('S', inplace=True)\n",
    "titanic['Sex_Female'] = titanic.Sex.map({'male':0, 'female':1})\n",
    "embarked_dummies = pd.get_dummies(titanic.Embarked, prefix='Embarked')\n",
    "titanic = pd.concat([titanic, embarked_dummies], axis=1)\n",
    "titanic['Age2'] = titanic['Age'] ** 2\n",
    "titanic['SibSp2'] = titanic['SibSp'] ** 2\n",
    "titanic['Parch2'] = titanic['Parch'] ** 2\n",
    "titanic['Fare2'] = titanic['Fare'] ** 2"
   ]
  },
  {
   "cell_type": "code",
   "execution_count": 117,
   "metadata": {
    "collapsed": false
   },
   "outputs": [
    {
     "name": "stdout",
     "output_type": "stream",
     "text": [
      "0.798206278027\n"
     ]
    }
   ],
   "source": [
    "# define X and y\n",
    "feature_cols = ['Pclass', 'Age', 'SibSp','Parch','Fare','Sex_Female', 'Embarked_C', 'Embarked_S', 'Age2', 'SibSp2','Fare2']\n",
    "X = titanic[feature_cols]\n",
    "y = titanic.Survived\n",
    "\n",
    "# train/test split\n",
    "from sklearn.cross_validation import train_test_split\n",
    "X_train, X_test, y_train, y_test = train_test_split(X, y, random_state=1)\n",
    "\n",
    "# train a logistic regression model\n",
    "from sklearn.linear_model import LogisticRegression\n",
    "logreg = LogisticRegression(C=1e9)\n",
    "logreg.fit(X_train, y_train)\n",
    "\n",
    "# make predictions for testing set\n",
    "y_pred_class = logreg.predict(X_test)\n",
    "\n",
    "# calculate testing accuracy\n",
    "from sklearn import metrics\n",
    "print(metrics.accuracy_score(y_test, y_pred_class))"
   ]
  },
  {
   "cell_type": "code",
   "execution_count": 118,
   "metadata": {
    "collapsed": true
   },
   "outputs": [],
   "source": [
    "test_df.Age.fillna(test_df.Age.mean(), inplace=True) \n",
    "test_df.Fare.fillna(test_df.Fare.mean(), inplace=True) \n",
    "test_df.Embarked.fillna('S', inplace=True)\n",
    "test_df['Sex_Female'] = test_df.Sex.map({'male':0, 'female':1})\n",
    "embarked_dummies = pd.get_dummies(test_df.Embarked, prefix='Embarked')\n",
    "test_df = pd.concat([test_df, embarked_dummies], axis=1)\n",
    "test_df['Age2'] = test_df['Age'] ** 2\n",
    "test_df['SibSp2'] = test_df['SibSp'] ** 2\n",
    "test_df['Parch2'] = test_df['Parch'] ** 2\n",
    "test_df['Fare2'] = test_df['Fare'] ** 2"
   ]
  },
  {
   "cell_type": "code",
   "execution_count": 119,
   "metadata": {
    "collapsed": false
   },
   "outputs": [],
   "source": [
    "predictions = logreg.predict(test_df[feature_cols])"
   ]
  },
  {
   "cell_type": "code",
   "execution_count": 59,
   "metadata": {
    "collapsed": true
   },
   "outputs": [],
   "source": [
    "submission = pd.DataFrame({ 'PassengerId': test_df['PassengerId'],\n",
    "                            'Survived': predictions })\n",
    "submission.to_csv(\"titanic_submission3.csv\", index=False)"
   ]
  },
  {
   "cell_type": "markdown",
   "metadata": {},
   "source": [
    "# 3.3. Logistic Regression Eliminando 'Age2' 'Fare2'"
   ]
  },
  {
   "cell_type": "code",
   "execution_count": 60,
   "metadata": {
    "collapsed": true
   },
   "outputs": [],
   "source": [
    "import pandas as pd\n",
    "import numpy as np\n",
    "train_df = pd.read_csv('titanic_train.csv', header=0)\n",
    "test_df = pd.read_csv('titanic_test.csv', header=0)"
   ]
  },
  {
   "cell_type": "code",
   "execution_count": 61,
   "metadata": {
    "collapsed": true
   },
   "outputs": [],
   "source": [
    "titanic = train_df\n",
    "titanic.Age.fillna(titanic.Age.mean(), inplace=True)\n",
    "titanic.Embarked.fillna('S', inplace=True)\n",
    "titanic['Sex_Female'] = titanic.Sex.map({'male':0, 'female':1})\n",
    "embarked_dummies = pd.get_dummies(titanic.Embarked, prefix='Embarked')\n",
    "titanic = pd.concat([titanic, embarked_dummies], axis=1)\n",
    "titanic['Age2'] = titanic['Age'] ** 2\n",
    "titanic['SibSp2'] = titanic['SibSp'] ** 2\n",
    "titanic['Parch2'] = titanic['Parch'] ** 2\n",
    "titanic['Fare2'] = titanic['Fare'] ** 2"
   ]
  },
  {
   "cell_type": "code",
   "execution_count": 62,
   "metadata": {
    "collapsed": false
   },
   "outputs": [
    {
     "name": "stdout",
     "output_type": "stream",
     "text": [
      "0.793721973094\n"
     ]
    }
   ],
   "source": [
    "# define X and y\n",
    "feature_cols = ['Pclass', 'Age', 'SibSp','Parch','Fare','Sex_Female', 'Embarked_C','Embarked_Q', 'Embarked_S', 'SibSp2','Parch2']\n",
    "X = titanic[feature_cols]\n",
    "y = titanic.Survived\n",
    "\n",
    "# train/test split\n",
    "from sklearn.cross_validation import train_test_split\n",
    "X_train, X_test, y_train, y_test = train_test_split(X, y, random_state=1)\n",
    "\n",
    "# train a logistic regression model\n",
    "from sklearn.linear_model import LogisticRegression\n",
    "logreg = LogisticRegression(C=1e9)\n",
    "logreg.fit(X_train, y_train)\n",
    "\n",
    "# make predictions for testing set\n",
    "y_pred_class = logreg.predict(X_test)\n",
    "\n",
    "# calculate testing accuracy\n",
    "from sklearn import metrics\n",
    "print(metrics.accuracy_score(y_test, y_pred_class))"
   ]
  },
  {
   "cell_type": "code",
   "execution_count": 63,
   "metadata": {
    "collapsed": true
   },
   "outputs": [],
   "source": [
    "test_df.Age.fillna(test_df.Age.mean(), inplace=True) \n",
    "test_df.Fare.fillna(test_df.Fare.mean(), inplace=True) \n",
    "test_df.Embarked.fillna('S', inplace=True)\n",
    "test_df['Sex_Female'] = test_df.Sex.map({'male':0, 'female':1})\n",
    "embarked_dummies = pd.get_dummies(test_df.Embarked, prefix='Embarked')\n",
    "test_df = pd.concat([test_df, embarked_dummies], axis=1)\n",
    "test_df['Age2'] = test_df['Age'] ** 2\n",
    "test_df['SibSp2'] = test_df['SibSp'] ** 2\n",
    "test_df['Parch2'] = test_df['Parch'] ** 2\n",
    "test_df['Fare2'] = test_df['Fare'] ** 2"
   ]
  },
  {
   "cell_type": "code",
   "execution_count": 64,
   "metadata": {
    "collapsed": true
   },
   "outputs": [],
   "source": [
    "predictions = logreg.predict(test_df[feature_cols])"
   ]
  },
  {
   "cell_type": "code",
   "execution_count": 65,
   "metadata": {
    "collapsed": true
   },
   "outputs": [],
   "source": [
    "submission = pd.DataFrame({ 'PassengerId': test_df['PassengerId'],\n",
    "                            'Survived': predictions })\n",
    "submission.to_csv(\"titanic_submission4.csv\", index=False)"
   ]
  },
  {
   "cell_type": "markdown",
   "metadata": {},
   "source": [
    "# 3.4. Cross Validation Elimando 'Embarked_Q'"
   ]
  },
  {
   "cell_type": "code",
   "execution_count": 69,
   "metadata": {
    "collapsed": true
   },
   "outputs": [],
   "source": [
    "import pandas as pd\n",
    "import numpy as np\n",
    "train_df = pd.read_csv('titanic_train.csv', header=0)\n",
    "test_df = pd.read_csv('titanic_test.csv', header=0)"
   ]
  },
  {
   "cell_type": "code",
   "execution_count": 70,
   "metadata": {
    "collapsed": true
   },
   "outputs": [],
   "source": [
    "titanic = train_df\n",
    "titanic.Age.fillna(titanic.Age.mean(), inplace=True)\n",
    "titanic.Embarked.fillna('S', inplace=True)\n",
    "titanic['Sex_Female'] = titanic.Sex.map({'male':0, 'female':1})\n",
    "embarked_dummies = pd.get_dummies(titanic.Embarked, prefix='Embarked')\n",
    "titanic = pd.concat([titanic, embarked_dummies], axis=1)\n",
    "titanic['Age2'] = titanic['Age'] ** 2\n",
    "titanic['SibSp2'] = titanic['SibSp'] ** 2\n",
    "titanic['Parch2'] = titanic['Parch'] ** 2\n",
    "titanic['Fare2'] = titanic['Fare'] ** 2"
   ]
  },
  {
   "cell_type": "code",
   "execution_count": 105,
   "metadata": {
    "collapsed": false
   },
   "outputs": [
    {
     "data": {
      "text/plain": [
       "[0.78888888888888886,\n",
       " 0.8202247191011236,\n",
       " 0.7640449438202247,\n",
       " 0.84269662921348309,\n",
       " 0.7865168539325843,\n",
       " 0.7865168539325843,\n",
       " 0.7865168539325843,\n",
       " 0.7640449438202247,\n",
       " 0.8539325842696629,\n",
       " 0.8089887640449438]"
      ]
     },
     "execution_count": 105,
     "metadata": {},
     "output_type": "execute_result"
    }
   ],
   "source": [
    "# define X and y\n",
    "feature_cols = ['Pclass', 'Age', 'SibSp','Parch','Fare','Sex_Female', 'Embarked_C', \n",
    "                'Embarked_S', 'Age2', 'SibSp2','Parch2','Fare2']\n",
    "X = titanic[feature_cols]\n",
    "y = titanic.Survived\n",
    "\n",
    "# Create k-folds\n",
    "from sklearn.cross_validation import KFold\n",
    "kf = KFold(X.shape[0], n_folds=10, random_state=0)\n",
    "\n",
    "results = []\n",
    "models = []\n",
    "for train_index, test_index in kf:\n",
    "    X_train, X_test = X.iloc[train_index], X.iloc[test_index]\n",
    "    y_train, y_test = y.iloc[train_index], y.iloc[test_index]\n",
    "\n",
    "    # train a logistic regression model\n",
    "    models.append(LogisticRegression(C=1e9))\n",
    "    \n",
    "    models[-1].fit(X_train, y_train)\n",
    "\n",
    "    # make predictions for testing set\n",
    "    y_pred_class = models[-1].predict(X_test)\n",
    "\n",
    "    # calculate testing accuracy\n",
    "    results.append(metrics.accuracy_score(y_test, y_pred_class))\n",
    "results"
   ]
  },
  {
   "cell_type": "code",
   "execution_count": 68,
   "metadata": {
    "collapsed": true
   },
   "outputs": [],
   "source": [
    "test_df.Age.fillna(titanic.Age.mean(), inplace=True)\n",
    "test_df.Fare.fillna(titanic.Fare.mean(), inplace=True) \n",
    "test_df.Embarked.fillna('S', inplace=True)\n",
    "test_df['Sex_Female'] = test_df.Sex.map({'male':0, 'female':1})\n",
    "embarked_dummies = pd.get_dummies(test_df.Embarked, prefix='Embarked')\n",
    "test_df = pd.concat([test_df, embarked_dummies], axis=1)\n",
    "test_df['Age2'] = test_df['Age'] ** 2\n",
    "test_df['SibSp2'] = test_df['SibSp'] ** 2\n",
    "test_df['Parch2'] = test_df['Parch'] ** 2\n",
    "test_df['Fare2'] = test_df['Fare'] ** 2"
   ]
  },
  {
   "cell_type": "code",
   "execution_count": 107,
   "metadata": {
    "collapsed": true
   },
   "outputs": [],
   "source": [
    "probas = pd.DataFrame(index=test_df[feature_cols].index, columns=['p'+ str(i) for i in range(10)])"
   ]
  },
  {
   "cell_type": "code",
   "execution_count": 108,
   "metadata": {
    "collapsed": true
   },
   "outputs": [],
   "source": [
    "for i in range(10):\n",
    "    proba = models[i].predict_proba(test_df[feature_cols])[:, 1]\n",
    "    probas.iloc[:, i] = proba"
   ]
  },
  {
   "cell_type": "code",
   "execution_count": 109,
   "metadata": {
    "collapsed": true
   },
   "outputs": [],
   "source": [
    "predictions = ((probas.mean(axis=1) > 0.5) * 1.0).values\n",
    "predictions = predictions.astype(np.int)"
   ]
  },
  {
   "cell_type": "code",
   "execution_count": 110,
   "metadata": {
    "collapsed": true
   },
   "outputs": [],
   "source": [
    "submission = pd.DataFrame({ 'PassengerId': test_df['PassengerId'],\n",
    "                            'Survived': predictions })\n",
    "submission.to_csv(\"titanic_submission_51.csv\", index=False)"
   ]
  },
  {
   "cell_type": "markdown",
   "metadata": {},
   "source": [
    "# 3.5. Cross Validation Eliminando 'Embarked_Q' 'Parch2'"
   ]
  },
  {
   "cell_type": "code",
   "execution_count": 13,
   "metadata": {
    "collapsed": true
   },
   "outputs": [],
   "source": [
    "import pandas as pd\n",
    "import numpy as np\n",
    "train_df = pd.read_csv('titanic_train.csv', header=0)\n",
    "test_df = pd.read_csv('titanic_test.csv', header=0)"
   ]
  },
  {
   "cell_type": "code",
   "execution_count": 14,
   "metadata": {
    "collapsed": true
   },
   "outputs": [],
   "source": [
    "titanic = train_df\n",
    "titanic.Age.fillna(titanic.Age.mean(), inplace=True)\n",
    "titanic.Embarked.fillna('S', inplace=True)\n",
    "titanic['Sex_Female'] = titanic.Sex.map({'male':0, 'female':1})\n",
    "embarked_dummies = pd.get_dummies(titanic.Embarked, prefix='Embarked')\n",
    "titanic = pd.concat([titanic, embarked_dummies], axis=1)\n",
    "titanic['Age2'] = titanic['Age'] ** 2\n",
    "titanic['SibSp2'] = titanic['SibSp'] ** 2\n",
    "titanic['Parch2'] = titanic['Parch'] ** 2\n",
    "titanic['Fare2'] = titanic['Fare'] ** 2"
   ]
  },
  {
   "cell_type": "code",
   "execution_count": 15,
   "metadata": {
    "collapsed": false
   },
   "outputs": [
    {
     "data": {
      "text/plain": [
       "[0.76666666666666672,\n",
       " 0.8314606741573034,\n",
       " 0.7865168539325843,\n",
       " 0.8539325842696629,\n",
       " 0.7752808988764045,\n",
       " 0.7865168539325843,\n",
       " 0.7865168539325843,\n",
       " 0.7752808988764045,\n",
       " 0.8651685393258427,\n",
       " 0.8089887640449438]"
      ]
     },
     "execution_count": 15,
     "metadata": {},
     "output_type": "execute_result"
    }
   ],
   "source": [
    "# define X and y\n",
    "feature_cols = ['Pclass', 'Age', 'SibSp','Parch','Fare','Sex_Female', 'Embarked_C', \n",
    "                'Embarked_S', 'Age2', 'SibSp2','Fare2']\n",
    "X = titanic[feature_cols]\n",
    "y = titanic.Survived\n",
    "\n",
    "# Create k-folds\n",
    "from sklearn.cross_validation import KFold\n",
    "kf = KFold(X.shape[0], n_folds=10, random_state=0)\n",
    "\n",
    "results = []\n",
    "models = []\n",
    "for train_index, test_index in kf:\n",
    "    X_train, X_test = X.iloc[train_index], X.iloc[test_index]\n",
    "    y_train, y_test = y.iloc[train_index], y.iloc[test_index]\n",
    "\n",
    "    # train a logistic regression model\n",
    "    models.append(LogisticRegression(C=1e9))\n",
    "    \n",
    "    models[-1].fit(X_train, y_train)\n",
    "\n",
    "    # make predictions for testing set\n",
    "    y_pred_class = models[-1].predict(X_test)\n",
    "\n",
    "    # calculate testing accuracy\n",
    "    results.append(metrics.accuracy_score(y_test, y_pred_class))\n",
    "results"
   ]
  },
  {
   "cell_type": "code",
   "execution_count": 16,
   "metadata": {
    "collapsed": true
   },
   "outputs": [],
   "source": [
    "test_df.Age.fillna(titanic.Age.mean(), inplace=True)\n",
    "test_df.Fare.fillna(titanic.Fare.mean(), inplace=True) \n",
    "test_df.Embarked.fillna('S', inplace=True)\n",
    "test_df['Sex_Female'] = test_df.Sex.map({'male':0, 'female':1})\n",
    "embarked_dummies = pd.get_dummies(test_df.Embarked, prefix='Embarked')\n",
    "test_df = pd.concat([test_df, embarked_dummies], axis=1)\n",
    "test_df['Age2'] = test_df['Age'] ** 2\n",
    "test_df['SibSp2'] = test_df['SibSp'] ** 2\n",
    "test_df['Parch2'] = test_df['Parch'] ** 2\n",
    "test_df['Fare2'] = test_df['Fare'] ** 2"
   ]
  },
  {
   "cell_type": "code",
   "execution_count": 17,
   "metadata": {
    "collapsed": true
   },
   "outputs": [],
   "source": [
    "probas = pd.DataFrame(index=test_df[feature_cols].index, columns=['p'+ str(i) for i in range(10)])"
   ]
  },
  {
   "cell_type": "code",
   "execution_count": 18,
   "metadata": {
    "collapsed": true
   },
   "outputs": [],
   "source": [
    "for i in range(10):\n",
    "    proba = models[i].predict_proba(test_df[feature_cols])[:, 1]\n",
    "    probas.iloc[:, i] = proba"
   ]
  },
  {
   "cell_type": "code",
   "execution_count": 19,
   "metadata": {
    "collapsed": true
   },
   "outputs": [],
   "source": [
    "predictions = ((probas.mean(axis=1) > 0.5) * 1.0).values\n",
    "predictions = predictions.astype(np.int)"
   ]
  },
  {
   "cell_type": "code",
   "execution_count": 20,
   "metadata": {
    "collapsed": true
   },
   "outputs": [],
   "source": [
    "submission = pd.DataFrame({ 'PassengerId': test_df['PassengerId'],\n",
    "                            'Survived': predictions })\n",
    "submission.to_csv(\"titanic_submission_52.csv\", index=False)"
   ]
  },
  {
   "cell_type": "markdown",
   "metadata": {},
   "source": [
    "# 3.6. Cross Validation Eliminando 'Age2' 'Fare2'"
   ]
  },
  {
   "cell_type": "code",
   "execution_count": 127,
   "metadata": {
    "collapsed": true
   },
   "outputs": [],
   "source": [
    "import pandas as pd\n",
    "import numpy as np\n",
    "train_df = pd.read_csv('titanic_train.csv', header=0)\n",
    "test_df = pd.read_csv('titanic_test.csv', header=0)"
   ]
  },
  {
   "cell_type": "code",
   "execution_count": 128,
   "metadata": {
    "collapsed": true
   },
   "outputs": [],
   "source": [
    "titanic = train_df\n",
    "titanic.Age.fillna(titanic.Age.mean(), inplace=True)\n",
    "titanic.Embarked.fillna('S', inplace=True)\n",
    "titanic['Sex_Female'] = titanic.Sex.map({'male':0, 'female':1})\n",
    "embarked_dummies = pd.get_dummies(titanic.Embarked, prefix='Embarked')\n",
    "titanic = pd.concat([titanic, embarked_dummies], axis=1)\n",
    "titanic['Age2'] = titanic['Age'] ** 2\n",
    "titanic['SibSp2'] = titanic['SibSp'] ** 2\n",
    "titanic['Parch2'] = titanic['Parch'] ** 2\n",
    "titanic['Fare2'] = titanic['Fare'] ** 2"
   ]
  },
  {
   "cell_type": "code",
   "execution_count": 129,
   "metadata": {
    "collapsed": false
   },
   "outputs": [
    {
     "data": {
      "text/plain": [
       "[0.76666666666666672,\n",
       " 0.8314606741573034,\n",
       " 0.7640449438202247,\n",
       " 0.8539325842696629,\n",
       " 0.7752808988764045,\n",
       " 0.7865168539325843,\n",
       " 0.7865168539325843,\n",
       " 0.7752808988764045,\n",
       " 0.8539325842696629,\n",
       " 0.84269662921348309]"
      ]
     },
     "execution_count": 129,
     "metadata": {},
     "output_type": "execute_result"
    }
   ],
   "source": [
    "# define X and y\n",
    "feature_cols = ['Pclass', 'Age', 'SibSp','Parch','Fare','Sex_Female', 'Embarked_C','Embarked_Q', \n",
    "                'Embarked_S', 'SibSp2','Parch2']\n",
    "X = titanic[feature_cols]\n",
    "y = titanic.Survived\n",
    "\n",
    "# Create k-folds\n",
    "from sklearn.cross_validation import KFold\n",
    "kf = KFold(X.shape[0], n_folds=10, random_state=0)\n",
    "\n",
    "results = []\n",
    "models = []\n",
    "for train_index, test_index in kf:\n",
    "    X_train, X_test = X.iloc[train_index], X.iloc[test_index]\n",
    "    y_train, y_test = y.iloc[train_index], y.iloc[test_index]\n",
    "\n",
    "    # train a logistic regression model\n",
    "    models.append(LogisticRegression(C=1e9))\n",
    "    \n",
    "    models[-1].fit(X_train, y_train)\n",
    "\n",
    "    # make predictions for testing set\n",
    "    y_pred_class = models[-1].predict(X_test)\n",
    "\n",
    "    # calculate testing accuracy\n",
    "    results.append(metrics.accuracy_score(y_test, y_pred_class))\n",
    "results"
   ]
  },
  {
   "cell_type": "code",
   "execution_count": 130,
   "metadata": {
    "collapsed": true
   },
   "outputs": [],
   "source": [
    "test_df.Age.fillna(titanic.Age.mean(), inplace=True)\n",
    "test_df.Fare.fillna(titanic.Fare.mean(), inplace=True) \n",
    "test_df.Embarked.fillna('S', inplace=True)\n",
    "test_df['Sex_Female'] = test_df.Sex.map({'male':0, 'female':1})\n",
    "embarked_dummies = pd.get_dummies(test_df.Embarked, prefix='Embarked')\n",
    "test_df = pd.concat([test_df, embarked_dummies], axis=1)\n",
    "test_df['Age2'] = test_df['Age'] ** 2\n",
    "test_df['SibSp2'] = test_df['SibSp'] ** 2\n",
    "test_df['Parch2'] = test_df['Parch'] ** 2\n",
    "test_df['Fare2'] = test_df['Fare'] ** 2"
   ]
  },
  {
   "cell_type": "code",
   "execution_count": 131,
   "metadata": {
    "collapsed": true
   },
   "outputs": [],
   "source": [
    "probas = pd.DataFrame(index=test_df[feature_cols].index, columns=['p'+ str(i) for i in range(10)])"
   ]
  },
  {
   "cell_type": "code",
   "execution_count": 132,
   "metadata": {
    "collapsed": true
   },
   "outputs": [],
   "source": [
    "for i in range(10):\n",
    "    proba = models[i].predict_proba(test_df[feature_cols])[:, 1]\n",
    "    probas.iloc[:, i] = proba"
   ]
  },
  {
   "cell_type": "code",
   "execution_count": 133,
   "metadata": {
    "collapsed": true
   },
   "outputs": [],
   "source": [
    "predictions = ((probas.mean(axis=1) > 0.5) * 1.0).values\n",
    "predictions = predictions.astype(np.int)"
   ]
  },
  {
   "cell_type": "code",
   "execution_count": 134,
   "metadata": {
    "collapsed": true
   },
   "outputs": [],
   "source": [
    "submission = pd.DataFrame({ 'PassengerId': test_df['PassengerId'],\n",
    "                            'Survived': predictions })\n",
    "submission.to_csv(\"titanic_submission_53.csv\", index=False)"
   ]
  },
  {
   "cell_type": "markdown",
   "metadata": {},
   "source": [
    "# 3.7. Multinomial NB Eliminando 'Embarked_Q'"
   ]
  },
  {
   "cell_type": "code",
   "execution_count": 74,
   "metadata": {
    "collapsed": true
   },
   "outputs": [],
   "source": [
    "import pandas as pd\n",
    "import numpy as np\n",
    "train_df = pd.read_csv('titanic_train.csv', header=0)\n",
    "test_df = pd.read_csv('titanic_test.csv', header=0)"
   ]
  },
  {
   "cell_type": "code",
   "execution_count": 75,
   "metadata": {
    "collapsed": true
   },
   "outputs": [],
   "source": [
    "titanic = train_df\n",
    "titanic.Age.fillna(titanic.Age.mean(), inplace=True)\n",
    "titanic.Embarked.fillna('S', inplace=True)\n",
    "titanic['Sex_Female'] = titanic.Sex.map({'male':0, 'female':1})\n",
    "embarked_dummies = pd.get_dummies(titanic.Embarked, prefix='Embarked')\n",
    "titanic = pd.concat([titanic, embarked_dummies], axis=1)\n",
    "titanic['Age2'] = titanic['Age'] ** 2\n",
    "titanic['SibSp2'] = titanic['SibSp'] ** 2\n",
    "titanic['Parch2'] = titanic['Parch'] ** 2\n",
    "titanic['Fare2'] = titanic['Fare'] ** 2"
   ]
  },
  {
   "cell_type": "code",
   "execution_count": 76,
   "metadata": {
    "collapsed": true
   },
   "outputs": [],
   "source": [
    "# define X and y\n",
    "feature_cols = ['Pclass', 'Age', 'SibSp','Parch','Fare','Sex_Female', 'Embarked_C',\n",
    "                'Embarked_S', 'Age2', 'SibSp2','Parch2','Fare2']\n",
    "X = titanic[feature_cols]\n",
    "y = titanic.Survived\n",
    "\n",
    "# train/test split\n",
    "from sklearn.cross_validation import train_test_split\n",
    "X_train, X_test, y_train, y_test = train_test_split(X, y, random_state=1)"
   ]
  },
  {
   "cell_type": "code",
   "execution_count": 77,
   "metadata": {
    "collapsed": false
   },
   "outputs": [
    {
     "data": {
      "text/plain": [
       "0.61434977578475336"
      ]
     },
     "execution_count": 77,
     "metadata": {},
     "output_type": "execute_result"
    }
   ],
   "source": [
    "# import both Multinomial and Gaussian Naive Bayes\n",
    "from sklearn.naive_bayes import MultinomialNB, GaussianNB\n",
    "from sklearn import metrics\n",
    "# testing accuracy of Multinomial Naive Bayes\n",
    "mnb = MultinomialNB()\n",
    "mnb.fit(X_train, y_train)\n",
    "y_pred_class = mnb.predict(X_test)\n",
    "metrics.accuracy_score(y_test, y_pred_class)"
   ]
  },
  {
   "cell_type": "code",
   "execution_count": 78,
   "metadata": {
    "collapsed": true
   },
   "outputs": [],
   "source": [
    "test_df.Age.fillna(titanic.Age.mean(), inplace=True)\n",
    "test_df.Fare.fillna(titanic.Fare.mean(), inplace=True) \n",
    "test_df.Embarked.fillna('S', inplace=True)\n",
    "test_df['Sex_Female'] = test_df.Sex.map({'male':0, 'female':1})\n",
    "embarked_dummies = pd.get_dummies(test_df.Embarked, prefix='Embarked')\n",
    "test_df = pd.concat([test_df, embarked_dummies], axis=1)\n",
    "test_df['Age2'] = test_df['Age'] ** 2\n",
    "test_df['SibSp2'] = test_df['SibSp'] ** 2\n",
    "test_df['Parch2'] = test_df['Parch'] ** 2\n",
    "test_df['Fare2'] = test_df['Fare'] ** 2"
   ]
  },
  {
   "cell_type": "code",
   "execution_count": null,
   "metadata": {
    "collapsed": true
   },
   "outputs": [],
   "source": [
    "predictions = mnb.predict(test_df[feature_cols])\n",
    "submission = pd.DataFrame({ 'PassengerId': test_df['PassengerId'],\n",
    "                            'Survived': predictions })\n",
    "submission.to_csv(\"titanic_submission81.csv\", index=False)"
   ]
  },
  {
   "cell_type": "markdown",
   "metadata": {},
   "source": [
    "# 3.8. Multinomial NB Eliminando 'Embarked_Q' 'Parch2'"
   ]
  },
  {
   "cell_type": "code",
   "execution_count": 84,
   "metadata": {
    "collapsed": true
   },
   "outputs": [],
   "source": [
    "import pandas as pd\n",
    "import numpy as np\n",
    "train_df = pd.read_csv('titanic_train.csv', header=0)\n",
    "test_df = pd.read_csv('titanic_test.csv', header=0)"
   ]
  },
  {
   "cell_type": "code",
   "execution_count": 85,
   "metadata": {
    "collapsed": true
   },
   "outputs": [],
   "source": [
    "titanic = train_df\n",
    "titanic.Age.fillna(titanic.Age.mean(), inplace=True)\n",
    "titanic.Embarked.fillna('S', inplace=True)\n",
    "titanic['Sex_Female'] = titanic.Sex.map({'male':0, 'female':1})\n",
    "embarked_dummies = pd.get_dummies(titanic.Embarked, prefix='Embarked')\n",
    "titanic = pd.concat([titanic, embarked_dummies], axis=1)\n",
    "titanic['Age2'] = titanic['Age'] ** 2\n",
    "titanic['SibSp2'] = titanic['SibSp'] ** 2\n",
    "titanic['Parch2'] = titanic['Parch'] ** 2\n",
    "titanic['Fare2'] = titanic['Fare'] ** 2"
   ]
  },
  {
   "cell_type": "code",
   "execution_count": 86,
   "metadata": {
    "collapsed": true
   },
   "outputs": [],
   "source": [
    "# define X and y\n",
    "feature_cols = ['Pclass', 'Age', 'SibSp','Parch','Fare','Sex_Female', 'Embarked_C', 'Embarked_S', 'Age2', 'SibSp2','Fare2']\n",
    "X = titanic[feature_cols]\n",
    "y = titanic.Survived\n",
    "\n",
    "# train/test split\n",
    "from sklearn.cross_validation import train_test_split\n",
    "X_train, X_test, y_train, y_test = train_test_split(X, y, random_state=1)"
   ]
  },
  {
   "cell_type": "code",
   "execution_count": 87,
   "metadata": {
    "collapsed": false
   },
   "outputs": [
    {
     "data": {
      "text/plain": [
       "0.61434977578475336"
      ]
     },
     "execution_count": 87,
     "metadata": {},
     "output_type": "execute_result"
    }
   ],
   "source": [
    "# import both Multinomial and Gaussian Naive Bayes\n",
    "from sklearn.naive_bayes import MultinomialNB, GaussianNB\n",
    "from sklearn import metrics\n",
    "# testing accuracy of Multinomial Naive Bayes\n",
    "mnb = MultinomialNB()\n",
    "mnb.fit(X_train, y_train)\n",
    "y_pred_class = mnb.predict(X_test)\n",
    "metrics.accuracy_score(y_test, y_pred_class)"
   ]
  },
  {
   "cell_type": "code",
   "execution_count": 88,
   "metadata": {
    "collapsed": true
   },
   "outputs": [],
   "source": [
    "test_df.Age.fillna(titanic.Age.mean(), inplace=True)\n",
    "test_df.Fare.fillna(titanic.Fare.mean(), inplace=True) \n",
    "test_df.Embarked.fillna('S', inplace=True)\n",
    "test_df['Sex_Female'] = test_df.Sex.map({'male':0, 'female':1})\n",
    "embarked_dummies = pd.get_dummies(test_df.Embarked, prefix='Embarked')\n",
    "test_df = pd.concat([test_df, embarked_dummies], axis=1)\n",
    "test_df['Age2'] = test_df['Age'] ** 2\n",
    "test_df['SibSp2'] = test_df['SibSp'] ** 2\n",
    "test_df['Fare2'] = test_df['Fare'] ** 2"
   ]
  },
  {
   "cell_type": "code",
   "execution_count": 89,
   "metadata": {
    "collapsed": true
   },
   "outputs": [],
   "source": [
    "predictions = mnb.predict(test_df[feature_cols])\n",
    "submission = pd.DataFrame({ 'PassengerId': test_df['PassengerId'],\n",
    "                            'Survived': predictions })\n",
    "submission.to_csv(\"titanic_submission82.csv\", index=False)"
   ]
  },
  {
   "cell_type": "markdown",
   "metadata": {},
   "source": [
    "# 3.9. Multinomial NB Eliminando 'Age2' 'Fare2'"
   ]
  },
  {
   "cell_type": "code",
   "execution_count": 90,
   "metadata": {
    "collapsed": true
   },
   "outputs": [],
   "source": [
    "import pandas as pd\n",
    "import numpy as np\n",
    "train_df = pd.read_csv('titanic_train.csv', header=0)\n",
    "test_df = pd.read_csv('titanic_test.csv', header=0)"
   ]
  },
  {
   "cell_type": "code",
   "execution_count": 91,
   "metadata": {
    "collapsed": true
   },
   "outputs": [],
   "source": [
    "titanic = train_df\n",
    "titanic.Age.fillna(titanic.Age.mean(), inplace=True)\n",
    "titanic.Embarked.fillna('S', inplace=True)\n",
    "titanic['Sex_Female'] = titanic.Sex.map({'male':0, 'female':1})\n",
    "embarked_dummies = pd.get_dummies(titanic.Embarked, prefix='Embarked')\n",
    "titanic = pd.concat([titanic, embarked_dummies], axis=1)\n",
    "titanic['Age2'] = titanic['Age'] ** 2\n",
    "titanic['SibSp2'] = titanic['SibSp'] ** 2\n",
    "titanic['Parch2'] = titanic['Parch'] ** 2\n",
    "titanic['Fare2'] = titanic['Fare'] ** 2"
   ]
  },
  {
   "cell_type": "code",
   "execution_count": 92,
   "metadata": {
    "collapsed": true
   },
   "outputs": [],
   "source": [
    "# define X and y\n",
    "feature_cols = ['Pclass', 'Age', 'SibSp','Parch','Fare','Sex_Female', 'Embarked_C',\n",
    "                'Embarked_Q', 'Embarked_S', 'SibSp2','Parch2']\n",
    "X = titanic[feature_cols]\n",
    "y = titanic.Survived\n",
    "\n",
    "# train/test split\n",
    "from sklearn.cross_validation import train_test_split\n",
    "X_train, X_test, y_train, y_test = train_test_split(X, y, random_state=1)"
   ]
  },
  {
   "cell_type": "code",
   "execution_count": 93,
   "metadata": {
    "collapsed": true
   },
   "outputs": [],
   "source": [
    "# import both Multinomial and Gaussian Naive Bayes\n",
    "from sklearn.naive_bayes import MultinomialNB, GaussianNB\n",
    "from sklearn import metrics"
   ]
  },
  {
   "cell_type": "code",
   "execution_count": 94,
   "metadata": {
    "collapsed": false
   },
   "outputs": [
    {
     "data": {
      "text/plain": [
       "0.68161434977578472"
      ]
     },
     "execution_count": 94,
     "metadata": {},
     "output_type": "execute_result"
    }
   ],
   "source": [
    "# testing accuracy of Multinomial Naive Bayes\n",
    "mnb = MultinomialNB()\n",
    "mnb.fit(X_train, y_train)\n",
    "y_pred_class = mnb.predict(X_test)\n",
    "metrics.accuracy_score(y_test, y_pred_class)"
   ]
  },
  {
   "cell_type": "code",
   "execution_count": 95,
   "metadata": {
    "collapsed": true
   },
   "outputs": [],
   "source": [
    "test_df.Age.fillna(titanic.Age.mean(), inplace=True)\n",
    "test_df.Fare.fillna(titanic.Fare.mean(), inplace=True) \n",
    "test_df.Embarked.fillna('S', inplace=True)\n",
    "test_df['Sex_Female'] = test_df.Sex.map({'male':0, 'female':1})\n",
    "embarked_dummies = pd.get_dummies(test_df.Embarked, prefix='Embarked')\n",
    "test_df = pd.concat([test_df, embarked_dummies], axis=1)\n",
    "test_df['Age2'] = test_df['Age'] ** 2\n",
    "test_df['SibSp2'] = test_df['SibSp'] ** 2\n",
    "test_df['Parch2'] = test_df['Parch'] ** 2\n",
    "test_df['Fare2'] = test_df['Fare'] ** 2"
   ]
  },
  {
   "cell_type": "code",
   "execution_count": 96,
   "metadata": {
    "collapsed": true
   },
   "outputs": [],
   "source": [
    "predictions = mnb.predict(test_df[feature_cols])"
   ]
  },
  {
   "cell_type": "code",
   "execution_count": 97,
   "metadata": {
    "collapsed": true
   },
   "outputs": [],
   "source": [
    "submission = pd.DataFrame({ 'PassengerId': test_df['PassengerId'],\n",
    "                            'Survived': predictions })\n",
    "submission.to_csv(\"titanic_submission83.csv\", index=False)"
   ]
  },
  {
   "cell_type": "markdown",
   "metadata": {},
   "source": [
    "# 3.10. Gaussian NB Eliminando 'Embarked_Q'"
   ]
  },
  {
   "cell_type": "code",
   "execution_count": 43,
   "metadata": {
    "collapsed": true
   },
   "outputs": [],
   "source": [
    "import pandas as pd\n",
    "import numpy as np\n",
    "train_df = pd.read_csv('titanic_train.csv', header=0)\n",
    "test_df = pd.read_csv('titanic_test.csv', header=0)"
   ]
  },
  {
   "cell_type": "code",
   "execution_count": 44,
   "metadata": {
    "collapsed": true
   },
   "outputs": [],
   "source": [
    "titanic = train_df\n",
    "titanic.Age.fillna(titanic.Age.mean(), inplace=True)\n",
    "titanic.Embarked.fillna('S', inplace=True)\n",
    "titanic['Sex_Female'] = titanic.Sex.map({'male':0, 'female':1})\n",
    "embarked_dummies = pd.get_dummies(titanic.Embarked, prefix='Embarked')\n",
    "titanic = pd.concat([titanic, embarked_dummies], axis=1)\n",
    "titanic['Age2'] = titanic['Age'] ** 2\n",
    "titanic['SibSp2'] = titanic['SibSp'] ** 2\n",
    "titanic['Parch2'] = titanic['Parch'] ** 2\n",
    "titanic['Fare2'] = titanic['Fare'] ** 2"
   ]
  },
  {
   "cell_type": "code",
   "execution_count": 45,
   "metadata": {
    "collapsed": true
   },
   "outputs": [],
   "source": [
    "feature_cols = ['Pclass', 'Age', 'SibSp','Parch','Fare','Sex_Female', 'Embarked_C',\n",
    "                'Embarked_Q', 'Embarked_S', 'Age2', 'SibSp2','Parch2','Fare2']\n",
    "X = titanic[feature_cols]\n",
    "y = titanic.Survived\n",
    "\n",
    "# train/test split\n",
    "from sklearn.cross_validation import train_test_split\n",
    "X_train, X_test, y_train, y_test = train_test_split(X, y, random_state=1)"
   ]
  },
  {
   "cell_type": "code",
   "execution_count": 46,
   "metadata": {
    "collapsed": false
   },
   "outputs": [
    {
     "data": {
      "text/plain": [
       "0.72197309417040356"
      ]
     },
     "execution_count": 46,
     "metadata": {},
     "output_type": "execute_result"
    }
   ],
   "source": [
    "# testing accuracy of Gaussian Naive Bayes\n",
    "gnb = GaussianNB()\n",
    "gnb.fit(X_train, y_train)\n",
    "y_pred_class = gnb.predict(X_test)\n",
    "metrics.accuracy_score(y_test, y_pred_class)"
   ]
  },
  {
   "cell_type": "code",
   "execution_count": 47,
   "metadata": {
    "collapsed": true
   },
   "outputs": [],
   "source": [
    "test_df.Age.fillna(titanic.Age.mean(), inplace=True)\n",
    "test_df.Fare.fillna(titanic.Fare.mean(), inplace=True) \n",
    "test_df.Embarked.fillna('S', inplace=True)\n",
    "test_df['Sex_Female'] = test_df.Sex.map({'male':0, 'female':1})\n",
    "embarked_dummies = pd.get_dummies(test_df.Embarked, prefix='Embarked')\n",
    "test_df = pd.concat([test_df, embarked_dummies], axis=1)\n",
    "test_df['Age2'] = test_df['Age'] ** 2\n",
    "test_df['SibSp2'] = test_df['SibSp'] ** 2\n",
    "test_df['Parch2'] = test_df['Parch'] ** 2\n",
    "test_df['Fare2'] = test_df['Fare'] ** 2"
   ]
  },
  {
   "cell_type": "code",
   "execution_count": 48,
   "metadata": {
    "collapsed": true
   },
   "outputs": [],
   "source": [
    "predictions = gnb.predict(test_df[feature_cols])"
   ]
  },
  {
   "cell_type": "code",
   "execution_count": null,
   "metadata": {
    "collapsed": true
   },
   "outputs": [],
   "source": [
    "submission = pd.DataFrame({ 'PassengerId': test_df['PassengerId'],\n",
    "                            'Survived': predictions })\n",
    "submission.to_csv(\"titanic_submission91.csv\", index=False)"
   ]
  },
  {
   "cell_type": "markdown",
   "metadata": {},
   "source": [
    "# 3.11. Gaussian NB Eliminando 'Embarked_Q' 'Parch2'"
   ]
  },
  {
   "cell_type": "code",
   "execution_count": 49,
   "metadata": {
    "collapsed": true
   },
   "outputs": [],
   "source": [
    "import pandas as pd\n",
    "import numpy as np\n",
    "train_df = pd.read_csv('titanic_train.csv', header=0)\n",
    "test_df = pd.read_csv('titanic_test.csv', header=0)"
   ]
  },
  {
   "cell_type": "code",
   "execution_count": 50,
   "metadata": {
    "collapsed": true
   },
   "outputs": [],
   "source": [
    "titanic = train_df\n",
    "titanic.Age.fillna(titanic.Age.mean(), inplace=True)\n",
    "titanic.Embarked.fillna('S', inplace=True)\n",
    "titanic['Sex_Female'] = titanic.Sex.map({'male':0, 'female':1})\n",
    "embarked_dummies = pd.get_dummies(titanic.Embarked, prefix='Embarked')\n",
    "titanic = pd.concat([titanic, embarked_dummies], axis=1)\n",
    "titanic['Age2'] = titanic['Age'] ** 2\n",
    "titanic['SibSp2'] = titanic['SibSp'] ** 2\n",
    "titanic['Parch2'] = titanic['Parch'] ** 2\n",
    "titanic['Fare2'] = titanic['Fare'] ** 2"
   ]
  },
  {
   "cell_type": "code",
   "execution_count": 51,
   "metadata": {
    "collapsed": true
   },
   "outputs": [],
   "source": [
    "# define X and y\n",
    "feature_cols = ['Pclass', 'Age', 'SibSp','Parch','Fare','Sex_Female', 'Embarked_C', 'Embarked_S', 'Age2', 'SibSp2','Fare2']\n",
    "X = titanic[feature_cols]\n",
    "y = titanic.Survived\n",
    "\n",
    "# train/test split\n",
    "from sklearn.cross_validation import train_test_split\n",
    "X_train, X_test, y_train, y_test = train_test_split(X, y, random_state=1)"
   ]
  },
  {
   "cell_type": "code",
   "execution_count": 52,
   "metadata": {
    "collapsed": false
   },
   "outputs": [
    {
     "data": {
      "text/plain": [
       "0.69506726457399104"
      ]
     },
     "execution_count": 52,
     "metadata": {},
     "output_type": "execute_result"
    }
   ],
   "source": [
    "# testing accuracy of Gaussian Naive Bayes\n",
    "gnb = GaussianNB()\n",
    "gnb.fit(X_train, y_train)\n",
    "y_pred_class = gnb.predict(X_test)\n",
    "metrics.accuracy_score(y_test, y_pred_class)"
   ]
  },
  {
   "cell_type": "code",
   "execution_count": 53,
   "metadata": {
    "collapsed": true
   },
   "outputs": [],
   "source": [
    "test_df.Age.fillna(titanic.Age.mean(), inplace=True)\n",
    "test_df.Fare.fillna(titanic.Fare.mean(), inplace=True) \n",
    "test_df.Embarked.fillna('S', inplace=True)\n",
    "test_df['Sex_Female'] = test_df.Sex.map({'male':0, 'female':1})\n",
    "embarked_dummies = pd.get_dummies(test_df.Embarked, prefix='Embarked')\n",
    "test_df = pd.concat([test_df, embarked_dummies], axis=1)\n",
    "test_df['Age2'] = test_df['Age'] ** 2\n",
    "test_df['SibSp2'] = test_df['SibSp'] ** 2\n",
    "test_df['Fare2'] = test_df['Fare'] ** 2"
   ]
  },
  {
   "cell_type": "code",
   "execution_count": 54,
   "metadata": {
    "collapsed": true
   },
   "outputs": [],
   "source": [
    "predictions = gnb.predict(test_df[feature_cols])"
   ]
  },
  {
   "cell_type": "code",
   "execution_count": null,
   "metadata": {
    "collapsed": true
   },
   "outputs": [],
   "source": [
    "submission = pd.DataFrame({ 'PassengerId': test_df['PassengerId'],\n",
    "                            'Survived': predictions })\n",
    "submission.to_csv(\"titanic_submission92.csv\", index=False)"
   ]
  },
  {
   "cell_type": "markdown",
   "metadata": {},
   "source": [
    "# 3.12. Gaussian NB Eliminando 'Age2' 'Fare2'"
   ]
  },
  {
   "cell_type": "code",
   "execution_count": 72,
   "metadata": {
    "collapsed": true
   },
   "outputs": [],
   "source": [
    "import pandas as pd\n",
    "import numpy as np\n",
    "train_df = pd.read_csv('titanic_train.csv', header=0)\n",
    "test_df = pd.read_csv('titanic_test.csv', header=0)"
   ]
  },
  {
   "cell_type": "code",
   "execution_count": 73,
   "metadata": {
    "collapsed": true
   },
   "outputs": [],
   "source": [
    "titanic = train_df\n",
    "titanic.Age.fillna(titanic.Age.mean(), inplace=True)\n",
    "titanic.Embarked.fillna('S', inplace=True)\n",
    "titanic['Sex_Female'] = titanic.Sex.map({'male':0, 'female':1})\n",
    "embarked_dummies = pd.get_dummies(titanic.Embarked, prefix='Embarked')\n",
    "titanic = pd.concat([titanic, embarked_dummies], axis=1)\n",
    "titanic['Age2'] = titanic['Age'] ** 2\n",
    "titanic['SibSp2'] = titanic['SibSp'] ** 2\n",
    "titanic['Parch2'] = titanic['Parch'] ** 2\n",
    "titanic['Fare2'] = titanic['Fare'] ** 2"
   ]
  },
  {
   "cell_type": "code",
   "execution_count": 74,
   "metadata": {
    "collapsed": true
   },
   "outputs": [],
   "source": [
    "# define X and y\n",
    "feature_cols = ['Pclass', 'Age', 'SibSp','Parch','Fare','Sex_Female', 'Embarked_C',\n",
    "                'Embarked_Q', 'Embarked_S', 'SibSp2','Parch2']\n",
    "X = titanic[feature_cols]\n",
    "y = titanic.Survived\n",
    "\n",
    "# train/test split\n",
    "from sklearn.cross_validation import train_test_split\n",
    "X_train, X_test, y_train, y_test = train_test_split(X, y, random_state=1)"
   ]
  },
  {
   "cell_type": "code",
   "execution_count": 75,
   "metadata": {
    "collapsed": false
   },
   "outputs": [
    {
     "data": {
      "text/plain": [
       "0.726457399103139"
      ]
     },
     "execution_count": 75,
     "metadata": {},
     "output_type": "execute_result"
    }
   ],
   "source": [
    "# testing accuracy of Gaussian Naive Bayes\n",
    "gnb = GaussianNB()\n",
    "gnb.fit(X_train, y_train)\n",
    "y_pred_class = gnb.predict(X_test)\n",
    "metrics.accuracy_score(y_test, y_pred_class)"
   ]
  },
  {
   "cell_type": "code",
   "execution_count": 76,
   "metadata": {
    "collapsed": true
   },
   "outputs": [],
   "source": [
    "test_df.Age.fillna(titanic.Age.mean(), inplace=True)\n",
    "test_df.Fare.fillna(titanic.Fare.mean(), inplace=True) \n",
    "test_df.Embarked.fillna('S', inplace=True)\n",
    "test_df['Sex_Female'] = test_df.Sex.map({'male':0, 'female':1})\n",
    "embarked_dummies = pd.get_dummies(test_df.Embarked, prefix='Embarked')\n",
    "test_df = pd.concat([test_df, embarked_dummies], axis=1)\n",
    "test_df['SibSp2'] = test_df['SibSp'] ** 2\n",
    "test_df['Parch2'] = test_df['Parch'] ** 2"
   ]
  },
  {
   "cell_type": "code",
   "execution_count": 77,
   "metadata": {
    "collapsed": false
   },
   "outputs": [],
   "source": [
    "predictions = gnb.predict(test_df[feature_cols])"
   ]
  },
  {
   "cell_type": "code",
   "execution_count": 78,
   "metadata": {
    "collapsed": true
   },
   "outputs": [],
   "source": [
    "submission = pd.DataFrame({ 'PassengerId': test_df['PassengerId'],\n",
    "                            'Survived': predictions })\n",
    "submission.to_csv(\"titanic_submission93.csv\", index=False)"
   ]
  },
  {
   "cell_type": "markdown",
   "metadata": {},
   "source": [
    "Al probar los cuatro modelos con las tres eliminaciones de variables que se obtuvieron en el paso 2. se concluye que el mejor modelo se obtiene por medio de la validación cruzada elimando las variables 'Embarked_Q' 'Parch2', y el de MultinomialNB para estos datos realmente tiene malos pronósticos así se realice la eliminación de variables que aportan poco al modelo y en general para todos los modelos eliminar 'Age2' 'Fare2'disminuye en gran medida el accuracy por lo que se considera que estas dos variables influyen de manera positiva en el modelo."
   ]
  },
  {
   "cell_type": "markdown",
   "metadata": {},
   "source": [
    "En la validación cruzada se observó que se mejoró la precisión del modelo al eliminar 'Embarked_Q' lo cual puede ser dado porque el haber subido en este puerto no tuvo influencia sobre la sobrevivencia, posiblemente en este puerto abordaron todo tipo de personas en cuanto a sexo, edad o estrato social. De igual manera mejora el modelo al eliminar 'Parch2' puesto que la variable con el número de padres o hijos a bordo no tendría sentido elevarla al cuadrado porque esta variable no tiene una función cuadrática con la supervivencia puesto que entre en general si la personas tenía hijos (1 o varios) era más factible que se salvaran y esto está asociado a otros factores como ser mujer o ser de clase alta."
   ]
  },
  {
   "cell_type": "markdown",
   "metadata": {},
   "source": [
    "Por lo que se puede concluir que variables como la edad, el sexo y la clase son muy importantes ya que era más probable que se salvaran las mujeres, los niños y personas de clase alta. Se pueden obtener mejores resultados si se realiza un modelo para imputar los valores perdidos en la edad ya que son bastantes o realizar otro tipo de modelo con mayor poder de predición."
   ]
  }
 ],
 "metadata": {
  "kernelspec": {
   "display_name": "Python 3",
   "language": "python",
   "name": "python3"
  },
  "language_info": {
   "codemirror_mode": {
    "name": "ipython",
    "version": 3
   },
   "file_extension": ".py",
   "mimetype": "text/x-python",
   "name": "python",
   "nbconvert_exporter": "python",
   "pygments_lexer": "ipython3",
   "version": "3.5.1"
  }
 },
 "nbformat": 4,
 "nbformat_minor": 0
}
